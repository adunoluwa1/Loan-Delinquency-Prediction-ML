{
 "cells": [
  {
   "cell_type": "code",
   "execution_count": 54,
   "metadata": {},
   "outputs": [
    {
     "name": "stdout",
     "output_type": "stream",
     "text": [
      "Requirement already satisfied: seaborn in c:\\users\\aduno\\appdata\\local\\packages\\pythonsoftwarefoundation.python.3.10_qbz5n2kfra8p0\\localcache\\local-packages\\python310\\site-packages (0.11.2)\n",
      "Requirement already satisfied: imblearn in c:\\users\\aduno\\appdata\\local\\packages\\pythonsoftwarefoundation.python.3.10_qbz5n2kfra8p0\\localcache\\local-packages\\python310\\site-packages (0.0)\n",
      "Requirement already satisfied: pandas>=0.23 in c:\\users\\aduno\\appdata\\local\\packages\\pythonsoftwarefoundation.python.3.10_qbz5n2kfra8p0\\localcache\\local-packages\\python310\\site-packages (from seaborn) (1.4.3)\n",
      "Requirement already satisfied: numpy>=1.15 in c:\\users\\aduno\\appdata\\local\\packages\\pythonsoftwarefoundation.python.3.10_qbz5n2kfra8p0\\localcache\\local-packages\\python310\\site-packages (from seaborn) (1.23.1)\n",
      "Requirement already satisfied: scipy>=1.0 in c:\\users\\aduno\\appdata\\local\\packages\\pythonsoftwarefoundation.python.3.10_qbz5n2kfra8p0\\localcache\\local-packages\\python310\\site-packages (from seaborn) (1.9.1)\n",
      "Requirement already satisfied: matplotlib>=2.2 in c:\\users\\aduno\\appdata\\local\\packages\\pythonsoftwarefoundation.python.3.10_qbz5n2kfra8p0\\localcache\\local-packages\\python310\\site-packages (from seaborn) (3.5.3)\n",
      "Requirement already satisfied: imbalanced-learn in c:\\users\\aduno\\appdata\\local\\packages\\pythonsoftwarefoundation.python.3.10_qbz5n2kfra8p0\\localcache\\local-packages\\python310\\site-packages (from imblearn) (0.9.1)\n",
      "Requirement already satisfied: fonttools>=4.22.0 in c:\\users\\aduno\\appdata\\local\\packages\\pythonsoftwarefoundation.python.3.10_qbz5n2kfra8p0\\localcache\\local-packages\\python310\\site-packages (from matplotlib>=2.2->seaborn) (4.37.1)\n",
      "Requirement already satisfied: python-dateutil>=2.7 in c:\\users\\aduno\\appdata\\local\\packages\\pythonsoftwarefoundation.python.3.10_qbz5n2kfra8p0\\localcache\\local-packages\\python310\\site-packages (from matplotlib>=2.2->seaborn) (2.8.2)\n",
      "Requirement already satisfied: packaging>=20.0 in c:\\users\\aduno\\appdata\\local\\packages\\pythonsoftwarefoundation.python.3.10_qbz5n2kfra8p0\\localcache\\local-packages\\python310\\site-packages (from matplotlib>=2.2->seaborn) (21.3)\n",
      "Requirement already satisfied: kiwisolver>=1.0.1 in c:\\users\\aduno\\appdata\\local\\packages\\pythonsoftwarefoundation.python.3.10_qbz5n2kfra8p0\\localcache\\local-packages\\python310\\site-packages (from matplotlib>=2.2->seaborn) (1.4.4)\n",
      "Requirement already satisfied: cycler>=0.10 in c:\\users\\aduno\\appdata\\local\\packages\\pythonsoftwarefoundation.python.3.10_qbz5n2kfra8p0\\localcache\\local-packages\\python310\\site-packages (from matplotlib>=2.2->seaborn) (0.11.0)\n",
      "Requirement already satisfied: pillow>=6.2.0 in c:\\users\\aduno\\appdata\\local\\packages\\pythonsoftwarefoundation.python.3.10_qbz5n2kfra8p0\\localcache\\local-packages\\python310\\site-packages (from matplotlib>=2.2->seaborn) (9.2.0)\n",
      "Requirement already satisfied: pyparsing>=2.2.1 in c:\\users\\aduno\\appdata\\local\\packages\\pythonsoftwarefoundation.python.3.10_qbz5n2kfra8p0\\localcache\\local-packages\\python310\\site-packages (from matplotlib>=2.2->seaborn) (3.0.9)\n",
      "Requirement already satisfied: pytz>=2020.1 in c:\\users\\aduno\\appdata\\local\\packages\\pythonsoftwarefoundation.python.3.10_qbz5n2kfra8p0\\localcache\\local-packages\\python310\\site-packages (from pandas>=0.23->seaborn) (2022.2.1)\n",
      "Requirement already satisfied: threadpoolctl>=2.0.0 in c:\\users\\aduno\\appdata\\local\\packages\\pythonsoftwarefoundation.python.3.10_qbz5n2kfra8p0\\localcache\\local-packages\\python310\\site-packages (from imbalanced-learn->imblearn) (3.1.0)\n",
      "Requirement already satisfied: joblib>=1.0.0 in c:\\users\\aduno\\appdata\\local\\packages\\pythonsoftwarefoundation.python.3.10_qbz5n2kfra8p0\\localcache\\local-packages\\python310\\site-packages (from imbalanced-learn->imblearn) (1.1.0)\n",
      "Requirement already satisfied: scikit-learn>=1.1.0 in c:\\users\\aduno\\appdata\\local\\packages\\pythonsoftwarefoundation.python.3.10_qbz5n2kfra8p0\\localcache\\local-packages\\python310\\site-packages (from imbalanced-learn->imblearn) (1.1.2)\n",
      "Requirement already satisfied: six>=1.5 in c:\\users\\aduno\\appdata\\local\\packages\\pythonsoftwarefoundation.python.3.10_qbz5n2kfra8p0\\localcache\\local-packages\\python310\\site-packages (from python-dateutil>=2.7->matplotlib>=2.2->seaborn) (1.16.0)\n",
      "Note: you may need to restart the kernel to use updated packages.\n"
     ]
    }
   ],
   "source": [
    "pip install seaborn imblearn"
   ]
  },
  {
   "cell_type": "markdown",
   "metadata": {},
   "source": [
    "logistic regression: https://towardsdatascience.com/building-a-logistic-regression-in-python-step-by-step-becd4d56c9c8\n",
    "medium: https://3liud.medium.com/supervised-ml-applications-60cb5ae350a2"
   ]
  },
  {
   "cell_type": "code",
   "execution_count": 55,
   "metadata": {},
   "outputs": [],
   "source": [
    "import pandas as pd\n",
    "import numpy as np\n",
    "from sklearn import preprocessing\n",
    "import matplotlib.pyplot as plt \n",
    "plt.rc(\"font\", size=14)\n",
    "from sklearn.linear_model import LogisticRegression\n",
    "from sklearn.model_selection import train_test_split\n",
    "import seaborn as sns\n",
    "sns.set(style=\"white\")\n",
    "sns.set(style=\"whitegrid\", color_codes=True)"
   ]
  },
  {
   "cell_type": "code",
   "execution_count": 56,
   "metadata": {},
   "outputs": [
    {
     "name": "stdout",
     "output_type": "stream",
     "text": [
      "<class 'pandas.core.frame.DataFrame'>\n",
      "RangeIndex: 4873 entries, 0 to 4872\n",
      "Data columns (total 29 columns):\n",
      " #   Column                     Non-Null Count  Dtype   \n",
      "---  ------                     --------------  -----   \n",
      " 0   loan_id                    4873 non-null   int64   \n",
      " 1   monthly_income             4873 non-null   float64 \n",
      " 2   origination_score_band     4873 non-null   category\n",
      " 3   TOB_months                 4873 non-null   float64 \n",
      " 4   closing_principal_balance  4873 non-null   float64 \n",
      " 5   original_loan_amount       4873 non-null   float64 \n",
      " 6   product                    4873 non-null   category\n",
      " 7   original_loan_term         4873 non-null   int64   \n",
      " 8   remaining_loan_term        4873 non-null   int64   \n",
      " 9   delq_history               4873 non-null   object  \n",
      " 10  target                     4873 non-null   category\n",
      " 11  origination_score_band_1   4873 non-null   float64 \n",
      " 12  origination_score_band_2   4873 non-null   float64 \n",
      " 13  origination_score_band_3   4873 non-null   float64 \n",
      " 14  origination_score_band_4   4873 non-null   float64 \n",
      " 15  origination_score_band_5   4873 non-null   float64 \n",
      " 16  origination_score_band_6   4873 non-null   float64 \n",
      " 17  origination_score_band_7   4873 non-null   float64 \n",
      " 18  origination_score_band_8   4873 non-null   float64 \n",
      " 19  product_A                  4873 non-null   float64 \n",
      " 20  product_B                  4873 non-null   float64 \n",
      " 21  product_C                  4873 non-null   float64 \n",
      " 22  product_D                  4873 non-null   float64 \n",
      " 23  delq_1                     4873 non-null   int64   \n",
      " 24  delq_2                     4873 non-null   int64   \n",
      " 25  delq_3                     4873 non-null   int64   \n",
      " 26  delq_4                     4873 non-null   int64   \n",
      " 27  delq_5                     4873 non-null   int64   \n",
      " 28  delq_6                     4873 non-null   int64   \n",
      "dtypes: category(3), float64(16), int64(9), object(1)\n",
      "memory usage: 1004.9+ KB\n"
     ]
    }
   ],
   "source": [
    "from project_data_preparation import dg;\n",
    "dg\n",
    "dg.info()\n"
   ]
  },
  {
   "cell_type": "code",
   "execution_count": 57,
   "metadata": {},
   "outputs": [
    {
     "data": {
      "text/plain": [
       "0    3413\n",
       "1    1460\n",
       "Name: target, dtype: int64"
      ]
     },
     "execution_count": 57,
     "metadata": {},
     "output_type": "execute_result"
    }
   ],
   "source": [
    "dg['target'].value_counts()"
   ]
  },
  {
   "cell_type": "code",
   "execution_count": 58,
   "metadata": {},
   "outputs": [
    {
     "data": {
      "image/png": "[encoded data removed]",
      "text/plain": [
       "<Figure size 504x288 with 1 Axes>"
      ]
     },
     "metadata": {},
     "output_type": "display_data"
    }
   ],
   "source": [
    "plt.figure(figsize=(7,4))\n",
    "sns.countplot(x=\"target\",data = dg, palette=\"hls\" )\n",
    "plt.show()\n",
    "# plt.savefig(\"count_plot\")"
   ]
  },
  {
   "cell_type": "code",
   "execution_count": 59,
   "metadata": {},
   "outputs": [
    {
     "name": "stdout",
     "output_type": "stream",
     "text": [
      "percentage of roll: 29.96\n",
      "percentage of no roll: 70.04\n"
     ]
    }
   ],
   "source": [
    "count_roll = len(dg[dg['target']==1])\n",
    "count_no_roll = len(dg[dg['target']==0])\n",
    "perc_roll = count_roll/len(dg)\n",
    "perc_no_roll= count_no_roll/(len(dg))\n",
    "print(f\"percentage of roll: {perc_roll*100:.2f}\")\n",
    "print(f\"percentage of no roll: {perc_no_roll*100:.2f}\")"
   ]
  },
  {
   "cell_type": "markdown",
   "metadata": {},
   "source": [
    "Exploratory Data Analysis"
   ]
  },
  {
   "cell_type": "code",
   "execution_count": 60,
   "metadata": {},
   "outputs": [
    {
     "data": {
      "text/html": [
       "<div>\n",
       "<style scoped>\n",
       "    .dataframe tbody tr th:only-of-type {\n",
       "        vertical-align: middle;\n",
       "    }\n",
       "\n",
       "    .dataframe tbody tr th {\n",
       "        vertical-align: top;\n",
       "    }\n",
       "\n",
       "    .dataframe thead th {\n",
       "        text-align: right;\n",
       "    }\n",
       "</style>\n",
       "<table border=\"1\" class=\"dataframe\">\n",
       "  <thead>\n",
       "    <tr style=\"text-align: right;\">\n",
       "      <th></th>\n",
       "      <th>loan_id</th>\n",
       "      <th>monthly_income</th>\n",
       "      <th>TOB_months</th>\n",
       "      <th>closing_principal_balance</th>\n",
       "      <th>original_loan_amount</th>\n",
       "      <th>original_loan_term</th>\n",
       "      <th>remaining_loan_term</th>\n",
       "      <th>origination_score_band_1</th>\n",
       "      <th>origination_score_band_2</th>\n",
       "      <th>origination_score_band_3</th>\n",
       "      <th>...</th>\n",
       "      <th>product_A</th>\n",
       "      <th>product_B</th>\n",
       "      <th>product_C</th>\n",
       "      <th>product_D</th>\n",
       "      <th>delq_1</th>\n",
       "      <th>delq_2</th>\n",
       "      <th>delq_3</th>\n",
       "      <th>delq_4</th>\n",
       "      <th>delq_5</th>\n",
       "      <th>delq_6</th>\n",
       "    </tr>\n",
       "    <tr>\n",
       "      <th>target</th>\n",
       "      <th></th>\n",
       "      <th></th>\n",
       "      <th></th>\n",
       "      <th></th>\n",
       "      <th></th>\n",
       "      <th></th>\n",
       "      <th></th>\n",
       "      <th></th>\n",
       "      <th></th>\n",
       "      <th></th>\n",
       "      <th></th>\n",
       "      <th></th>\n",
       "      <th></th>\n",
       "      <th></th>\n",
       "      <th></th>\n",
       "      <th></th>\n",
       "      <th></th>\n",
       "      <th></th>\n",
       "      <th></th>\n",
       "      <th></th>\n",
       "      <th></th>\n",
       "    </tr>\n",
       "  </thead>\n",
       "  <tbody>\n",
       "    <tr>\n",
       "      <th>0</th>\n",
       "      <td>3610.357164</td>\n",
       "      <td>14862.877234</td>\n",
       "      <td>27.939057</td>\n",
       "      <td>5964.031644</td>\n",
       "      <td>6899.958980</td>\n",
       "      <td>62.178142</td>\n",
       "      <td>39.605626</td>\n",
       "      <td>0.054498</td>\n",
       "      <td>0.128919</td>\n",
       "      <td>0.269558</td>\n",
       "      <td>...</td>\n",
       "      <td>0.504541</td>\n",
       "      <td>0.355992</td>\n",
       "      <td>0.069147</td>\n",
       "      <td>0.070319</td>\n",
       "      <td>0.196601</td>\n",
       "      <td>0.176970</td>\n",
       "      <td>0.158219</td>\n",
       "      <td>0.101377</td>\n",
       "      <td>0.090243</td>\n",
       "      <td>0.064166</td>\n",
       "    </tr>\n",
       "    <tr>\n",
       "      <th>1</th>\n",
       "      <td>3631.954795</td>\n",
       "      <td>13367.465753</td>\n",
       "      <td>29.467808</td>\n",
       "      <td>5298.280822</td>\n",
       "      <td>6184.116438</td>\n",
       "      <td>61.964384</td>\n",
       "      <td>39.681507</td>\n",
       "      <td>0.051370</td>\n",
       "      <td>0.065068</td>\n",
       "      <td>0.234247</td>\n",
       "      <td>...</td>\n",
       "      <td>0.519863</td>\n",
       "      <td>0.231507</td>\n",
       "      <td>0.091781</td>\n",
       "      <td>0.156849</td>\n",
       "      <td>0.148630</td>\n",
       "      <td>0.202055</td>\n",
       "      <td>0.149315</td>\n",
       "      <td>0.117808</td>\n",
       "      <td>0.080822</td>\n",
       "      <td>0.113699</td>\n",
       "    </tr>\n",
       "  </tbody>\n",
       "</table>\n",
       "<p>2 rows × 25 columns</p>\n",
       "</div>"
      ],
      "text/plain": [
       "            loan_id  monthly_income  TOB_months  closing_principal_balance  \\\n",
       "target                                                                       \n",
       "0       3610.357164    14862.877234   27.939057                5964.031644   \n",
       "1       3631.954795    13367.465753   29.467808                5298.280822   \n",
       "\n",
       "        original_loan_amount  original_loan_term  remaining_loan_term  \\\n",
       "target                                                                  \n",
       "0                6899.958980           62.178142            39.605626   \n",
       "1                6184.116438           61.964384            39.681507   \n",
       "\n",
       "        origination_score_band_1  origination_score_band_2  \\\n",
       "target                                                       \n",
       "0                       0.054498                  0.128919   \n",
       "1                       0.051370                  0.065068   \n",
       "\n",
       "        origination_score_band_3  ...  product_A  product_B  product_C  \\\n",
       "target                            ...                                    \n",
       "0                       0.269558  ...   0.504541   0.355992   0.069147   \n",
       "1                       0.234247  ...   0.519863   0.231507   0.091781   \n",
       "\n",
       "        product_D    delq_1    delq_2    delq_3    delq_4    delq_5    delq_6  \n",
       "target                                                                         \n",
       "0        0.070319  0.196601  0.176970  0.158219  0.101377  0.090243  0.064166  \n",
       "1        0.156849  0.148630  0.202055  0.149315  0.117808  0.080822  0.113699  \n",
       "\n",
       "[2 rows x 25 columns]"
      ]
     },
     "execution_count": 60,
     "metadata": {},
     "output_type": "execute_result"
    }
   ],
   "source": [
    "dg.groupby('target').mean()"
   ]
  },
  {
   "cell_type": "code",
   "execution_count": 61,
   "metadata": {},
   "outputs": [
    {
     "data": {
      "text/html": [
       "<div>\n",
       "<style scoped>\n",
       "    .dataframe tbody tr th:only-of-type {\n",
       "        vertical-align: middle;\n",
       "    }\n",
       "\n",
       "    .dataframe tbody tr th {\n",
       "        vertical-align: top;\n",
       "    }\n",
       "\n",
       "    .dataframe thead th {\n",
       "        text-align: right;\n",
       "    }\n",
       "</style>\n",
       "<table border=\"1\" class=\"dataframe\">\n",
       "  <thead>\n",
       "    <tr style=\"text-align: right;\">\n",
       "      <th></th>\n",
       "      <th></th>\n",
       "      <th>loan_id</th>\n",
       "      <th>monthly_income</th>\n",
       "      <th>TOB_months</th>\n",
       "      <th>closing_principal_balance</th>\n",
       "      <th>original_loan_amount</th>\n",
       "      <th>original_loan_term</th>\n",
       "      <th>remaining_loan_term</th>\n",
       "      <th>origination_score_band_1</th>\n",
       "      <th>origination_score_band_2</th>\n",
       "      <th>origination_score_band_3</th>\n",
       "      <th>...</th>\n",
       "      <th>product_A</th>\n",
       "      <th>product_B</th>\n",
       "      <th>product_C</th>\n",
       "      <th>product_D</th>\n",
       "      <th>delq_1</th>\n",
       "      <th>delq_2</th>\n",
       "      <th>delq_3</th>\n",
       "      <th>delq_4</th>\n",
       "      <th>delq_5</th>\n",
       "      <th>delq_6</th>\n",
       "    </tr>\n",
       "    <tr>\n",
       "      <th>product</th>\n",
       "      <th>target</th>\n",
       "      <th></th>\n",
       "      <th></th>\n",
       "      <th></th>\n",
       "      <th></th>\n",
       "      <th></th>\n",
       "      <th></th>\n",
       "      <th></th>\n",
       "      <th></th>\n",
       "      <th></th>\n",
       "      <th></th>\n",
       "      <th></th>\n",
       "      <th></th>\n",
       "      <th></th>\n",
       "      <th></th>\n",
       "      <th></th>\n",
       "      <th></th>\n",
       "      <th></th>\n",
       "      <th></th>\n",
       "      <th></th>\n",
       "      <th></th>\n",
       "      <th></th>\n",
       "    </tr>\n",
       "  </thead>\n",
       "  <tbody>\n",
       "    <tr>\n",
       "      <th rowspan=\"2\" valign=\"top\">A</th>\n",
       "      <th>0</th>\n",
       "      <td>3641.105110</td>\n",
       "      <td>10057.926829</td>\n",
       "      <td>25.163182</td>\n",
       "      <td>4166.585366</td>\n",
       "      <td>4700.563298</td>\n",
       "      <td>68.242160</td>\n",
       "      <td>45.915796</td>\n",
       "      <td>0.092334</td>\n",
       "      <td>0.137631</td>\n",
       "      <td>0.198026</td>\n",
       "      <td>...</td>\n",
       "      <td>1.0</td>\n",
       "      <td>0.0</td>\n",
       "      <td>0.0</td>\n",
       "      <td>0.0</td>\n",
       "      <td>0.222416</td>\n",
       "      <td>0.211382</td>\n",
       "      <td>0.192799</td>\n",
       "      <td>0.119048</td>\n",
       "      <td>0.118467</td>\n",
       "      <td>0.070267</td>\n",
       "    </tr>\n",
       "    <tr>\n",
       "      <th>1</th>\n",
       "      <td>3631.613966</td>\n",
       "      <td>10624.505929</td>\n",
       "      <td>26.866930</td>\n",
       "      <td>4480.816864</td>\n",
       "      <td>4863.346509</td>\n",
       "      <td>68.490119</td>\n",
       "      <td>44.559947</td>\n",
       "      <td>0.077734</td>\n",
       "      <td>0.076416</td>\n",
       "      <td>0.192358</td>\n",
       "      <td>...</td>\n",
       "      <td>1.0</td>\n",
       "      <td>0.0</td>\n",
       "      <td>0.0</td>\n",
       "      <td>0.0</td>\n",
       "      <td>0.069829</td>\n",
       "      <td>0.086957</td>\n",
       "      <td>0.060606</td>\n",
       "      <td>0.035573</td>\n",
       "      <td>0.026350</td>\n",
       "      <td>0.052701</td>\n",
       "    </tr>\n",
       "    <tr>\n",
       "      <th rowspan=\"2\" valign=\"top\">B</th>\n",
       "      <th>0</th>\n",
       "      <td>3502.173663</td>\n",
       "      <td>23796.296296</td>\n",
       "      <td>35.273251</td>\n",
       "      <td>9427.135802</td>\n",
       "      <td>11014.493827</td>\n",
       "      <td>59.234568</td>\n",
       "      <td>31.845267</td>\n",
       "      <td>0.000000</td>\n",
       "      <td>0.128395</td>\n",
       "      <td>0.347325</td>\n",
       "      <td>...</td>\n",
       "      <td>0.0</td>\n",
       "      <td>1.0</td>\n",
       "      <td>0.0</td>\n",
       "      <td>0.0</td>\n",
       "      <td>0.158848</td>\n",
       "      <td>0.158025</td>\n",
       "      <td>0.125926</td>\n",
       "      <td>0.086420</td>\n",
       "      <td>0.062551</td>\n",
       "      <td>0.055967</td>\n",
       "    </tr>\n",
       "    <tr>\n",
       "      <th>1</th>\n",
       "      <td>3503.997041</td>\n",
       "      <td>24390.532544</td>\n",
       "      <td>44.390533</td>\n",
       "      <td>9133.964497</td>\n",
       "      <td>11399.497041</td>\n",
       "      <td>56.609467</td>\n",
       "      <td>28.375740</td>\n",
       "      <td>0.000000</td>\n",
       "      <td>0.000000</td>\n",
       "      <td>0.281065</td>\n",
       "      <td>...</td>\n",
       "      <td>0.0</td>\n",
       "      <td>1.0</td>\n",
       "      <td>0.0</td>\n",
       "      <td>0.0</td>\n",
       "      <td>0.319527</td>\n",
       "      <td>0.479290</td>\n",
       "      <td>0.316568</td>\n",
       "      <td>0.316568</td>\n",
       "      <td>0.263314</td>\n",
       "      <td>0.263314</td>\n",
       "    </tr>\n",
       "    <tr>\n",
       "      <th rowspan=\"2\" valign=\"top\">C</th>\n",
       "      <th>0</th>\n",
       "      <td>3800.262712</td>\n",
       "      <td>3060.381356</td>\n",
       "      <td>16.872881</td>\n",
       "      <td>980.254237</td>\n",
       "      <td>1350.805085</td>\n",
       "      <td>35.300847</td>\n",
       "      <td>22.741525</td>\n",
       "      <td>0.000000</td>\n",
       "      <td>0.076271</td>\n",
       "      <td>0.271186</td>\n",
       "      <td>...</td>\n",
       "      <td>0.0</td>\n",
       "      <td>0.0</td>\n",
       "      <td>1.0</td>\n",
       "      <td>0.0</td>\n",
       "      <td>0.194915</td>\n",
       "      <td>0.080508</td>\n",
       "      <td>0.148305</td>\n",
       "      <td>0.033898</td>\n",
       "      <td>0.033898</td>\n",
       "      <td>0.000000</td>\n",
       "    </tr>\n",
       "    <tr>\n",
       "      <th>1</th>\n",
       "      <td>3713.888060</td>\n",
       "      <td>3179.104478</td>\n",
       "      <td>24.044776</td>\n",
       "      <td>937.462687</td>\n",
       "      <td>1406.343284</td>\n",
       "      <td>45.447761</td>\n",
       "      <td>26.052239</td>\n",
       "      <td>0.000000</td>\n",
       "      <td>0.000000</td>\n",
       "      <td>0.328358</td>\n",
       "      <td>...</td>\n",
       "      <td>0.0</td>\n",
       "      <td>0.0</td>\n",
       "      <td>1.0</td>\n",
       "      <td>0.0</td>\n",
       "      <td>0.291045</td>\n",
       "      <td>0.223881</td>\n",
       "      <td>0.074627</td>\n",
       "      <td>0.074627</td>\n",
       "      <td>0.000000</td>\n",
       "      <td>0.052239</td>\n",
       "    </tr>\n",
       "    <tr>\n",
       "      <th rowspan=\"2\" valign=\"top\">D</th>\n",
       "      <th>0</th>\n",
       "      <td>3750.679167</td>\n",
       "      <td>15718.750000</td>\n",
       "      <td>21.608333</td>\n",
       "      <td>6229.458333</td>\n",
       "      <td>7307.458333</td>\n",
       "      <td>60.000000</td>\n",
       "      <td>50.200000</td>\n",
       "      <td>0.112500</td>\n",
       "      <td>0.120833</td>\n",
       "      <td>0.387500</td>\n",
       "      <td>...</td>\n",
       "      <td>0.0</td>\n",
       "      <td>0.0</td>\n",
       "      <td>0.0</td>\n",
       "      <td>1.0</td>\n",
       "      <td>0.204167</td>\n",
       "      <td>0.120833</td>\n",
       "      <td>0.083333</td>\n",
       "      <td>0.116667</td>\n",
       "      <td>0.083333</td>\n",
       "      <td>0.125000</td>\n",
       "    </tr>\n",
       "    <tr>\n",
       "      <th>1</th>\n",
       "      <td>3774.004367</td>\n",
       "      <td>12150.655022</td>\n",
       "      <td>19.235808</td>\n",
       "      <td>4898.034934</td>\n",
       "      <td>5659.606987</td>\n",
       "      <td>57.903930</td>\n",
       "      <td>48.174672</td>\n",
       "      <td>0.069869</td>\n",
       "      <td>0.161572</td>\n",
       "      <td>0.248908</td>\n",
       "      <td>...</td>\n",
       "      <td>0.0</td>\n",
       "      <td>0.0</td>\n",
       "      <td>0.0</td>\n",
       "      <td>1.0</td>\n",
       "      <td>0.074236</td>\n",
       "      <td>0.161572</td>\n",
       "      <td>0.240175</td>\n",
       "      <td>0.122271</td>\n",
       "      <td>0.039301</td>\n",
       "      <td>0.131004</td>\n",
       "    </tr>\n",
       "  </tbody>\n",
       "</table>\n",
       "<p>8 rows × 25 columns</p>\n",
       "</div>"
      ],
      "text/plain": [
       "                    loan_id  monthly_income  TOB_months  \\\n",
       "product target                                            \n",
       "A       0       3641.105110    10057.926829   25.163182   \n",
       "        1       3631.613966    10624.505929   26.866930   \n",
       "B       0       3502.173663    23796.296296   35.273251   \n",
       "        1       3503.997041    24390.532544   44.390533   \n",
       "C       0       3800.262712     3060.381356   16.872881   \n",
       "        1       3713.888060     3179.104478   24.044776   \n",
       "D       0       3750.679167    15718.750000   21.608333   \n",
       "        1       3774.004367    12150.655022   19.235808   \n",
       "\n",
       "                closing_principal_balance  original_loan_amount  \\\n",
       "product target                                                    \n",
       "A       0                     4166.585366           4700.563298   \n",
       "        1                     4480.816864           4863.346509   \n",
       "B       0                     9427.135802          11014.493827   \n",
       "        1                     9133.964497          11399.497041   \n",
       "C       0                      980.254237           1350.805085   \n",
       "        1                      937.462687           1406.343284   \n",
       "D       0                     6229.458333           7307.458333   \n",
       "        1                     4898.034934           5659.606987   \n",
       "\n",
       "                original_loan_term  remaining_loan_term  \\\n",
       "product target                                            \n",
       "A       0                68.242160            45.915796   \n",
       "        1                68.490119            44.559947   \n",
       "B       0                59.234568            31.845267   \n",
       "        1                56.609467            28.375740   \n",
       "C       0                35.300847            22.741525   \n",
       "        1                45.447761            26.052239   \n",
       "D       0                60.000000            50.200000   \n",
       "        1                57.903930            48.174672   \n",
       "\n",
       "                origination_score_band_1  origination_score_band_2  \\\n",
       "product target                                                       \n",
       "A       0                       0.092334                  0.137631   \n",
       "        1                       0.077734                  0.076416   \n",
       "B       0                       0.000000                  0.128395   \n",
       "        1                       0.000000                  0.000000   \n",
       "C       0                       0.000000                  0.076271   \n",
       "        1                       0.000000                  0.000000   \n",
       "D       0                       0.112500                  0.120833   \n",
       "        1                       0.069869                  0.161572   \n",
       "\n",
       "                origination_score_band_3  ...  product_A  product_B  \\\n",
       "product target                            ...                         \n",
       "A       0                       0.198026  ...        1.0        0.0   \n",
       "        1                       0.192358  ...        1.0        0.0   \n",
       "B       0                       0.347325  ...        0.0        1.0   \n",
       "        1                       0.281065  ...        0.0        1.0   \n",
       "C       0                       0.271186  ...        0.0        0.0   \n",
       "        1                       0.328358  ...        0.0        0.0   \n",
       "D       0                       0.387500  ...        0.0        0.0   \n",
       "        1                       0.248908  ...        0.0        0.0   \n",
       "\n",
       "                product_C  product_D    delq_1    delq_2    delq_3    delq_4  \\\n",
       "product target                                                                 \n",
       "A       0             0.0        0.0  0.222416  0.211382  0.192799  0.119048   \n",
       "        1             0.0        0.0  0.069829  0.086957  0.060606  0.035573   \n",
       "B       0             0.0        0.0  0.158848  0.158025  0.125926  0.086420   \n",
       "        1             0.0        0.0  0.319527  0.479290  0.316568  0.316568   \n",
       "C       0             1.0        0.0  0.194915  0.080508  0.148305  0.033898   \n",
       "        1             1.0        0.0  0.291045  0.223881  0.074627  0.074627   \n",
       "D       0             0.0        1.0  0.204167  0.120833  0.083333  0.116667   \n",
       "        1             0.0        1.0  0.074236  0.161572  0.240175  0.122271   \n",
       "\n",
       "                  delq_5    delq_6  \n",
       "product target                      \n",
       "A       0       0.118467  0.070267  \n",
       "        1       0.026350  0.052701  \n",
       "B       0       0.062551  0.055967  \n",
       "        1       0.263314  0.263314  \n",
       "C       0       0.033898  0.000000  \n",
       "        1       0.000000  0.052239  \n",
       "D       0       0.083333  0.125000  \n",
       "        1       0.039301  0.131004  \n",
       "\n",
       "[8 rows x 25 columns]"
      ]
     },
     "execution_count": 61,
     "metadata": {},
     "output_type": "execute_result"
    }
   ],
   "source": [
    "dg.groupby(['product','target']).mean()"
   ]
  },
  {
   "cell_type": "code",
   "execution_count": 62,
   "metadata": {},
   "outputs": [
    {
     "data": {
      "text/html": [
       "<div>\n",
       "<style scoped>\n",
       "    .dataframe tbody tr th:only-of-type {\n",
       "        vertical-align: middle;\n",
       "    }\n",
       "\n",
       "    .dataframe tbody tr th {\n",
       "        vertical-align: top;\n",
       "    }\n",
       "\n",
       "    .dataframe thead th {\n",
       "        text-align: right;\n",
       "    }\n",
       "</style>\n",
       "<table border=\"1\" class=\"dataframe\">\n",
       "  <thead>\n",
       "    <tr style=\"text-align: right;\">\n",
       "      <th></th>\n",
       "      <th>loan_id</th>\n",
       "      <th>monthly_income</th>\n",
       "      <th>TOB_months</th>\n",
       "      <th>closing_principal_balance</th>\n",
       "      <th>original_loan_amount</th>\n",
       "      <th>original_loan_term</th>\n",
       "      <th>remaining_loan_term</th>\n",
       "      <th>origination_score_band_1</th>\n",
       "      <th>origination_score_band_2</th>\n",
       "      <th>origination_score_band_3</th>\n",
       "      <th>...</th>\n",
       "      <th>product_A</th>\n",
       "      <th>product_B</th>\n",
       "      <th>product_C</th>\n",
       "      <th>product_D</th>\n",
       "      <th>delq_1</th>\n",
       "      <th>delq_2</th>\n",
       "      <th>delq_3</th>\n",
       "      <th>delq_4</th>\n",
       "      <th>delq_5</th>\n",
       "      <th>delq_6</th>\n",
       "    </tr>\n",
       "    <tr>\n",
       "      <th>origination_score_band</th>\n",
       "      <th></th>\n",
       "      <th></th>\n",
       "      <th></th>\n",
       "      <th></th>\n",
       "      <th></th>\n",
       "      <th></th>\n",
       "      <th></th>\n",
       "      <th></th>\n",
       "      <th></th>\n",
       "      <th></th>\n",
       "      <th></th>\n",
       "      <th></th>\n",
       "      <th></th>\n",
       "      <th></th>\n",
       "      <th></th>\n",
       "      <th></th>\n",
       "      <th></th>\n",
       "      <th></th>\n",
       "      <th></th>\n",
       "      <th></th>\n",
       "      <th></th>\n",
       "    </tr>\n",
       "  </thead>\n",
       "  <tbody>\n",
       "    <tr>\n",
       "      <th>1</th>\n",
       "      <td>3661.390805</td>\n",
       "      <td>8813.218391</td>\n",
       "      <td>24.632184</td>\n",
       "      <td>3546.206897</td>\n",
       "      <td>4095.325670</td>\n",
       "      <td>68.827586</td>\n",
       "      <td>48.570881</td>\n",
       "      <td>1.0</td>\n",
       "      <td>0.0</td>\n",
       "      <td>0.0</td>\n",
       "      <td>...</td>\n",
       "      <td>0.835249</td>\n",
       "      <td>0.000000</td>\n",
       "      <td>0.000000</td>\n",
       "      <td>0.164751</td>\n",
       "      <td>0.065134</td>\n",
       "      <td>0.153257</td>\n",
       "      <td>0.076628</td>\n",
       "      <td>0.038314</td>\n",
       "      <td>0.034483</td>\n",
       "      <td>0.072797</td>\n",
       "    </tr>\n",
       "    <tr>\n",
       "      <th>2</th>\n",
       "      <td>3610.497196</td>\n",
       "      <td>12857.943925</td>\n",
       "      <td>23.295327</td>\n",
       "      <td>5536.691589</td>\n",
       "      <td>6051.009346</td>\n",
       "      <td>61.514019</td>\n",
       "      <td>42.289720</td>\n",
       "      <td>0.0</td>\n",
       "      <td>1.0</td>\n",
       "      <td>0.0</td>\n",
       "      <td>...</td>\n",
       "      <td>0.551402</td>\n",
       "      <td>0.291589</td>\n",
       "      <td>0.033645</td>\n",
       "      <td>0.123364</td>\n",
       "      <td>0.194393</td>\n",
       "      <td>0.194393</td>\n",
       "      <td>0.173832</td>\n",
       "      <td>0.050467</td>\n",
       "      <td>0.052336</td>\n",
       "      <td>0.033645</td>\n",
       "    </tr>\n",
       "    <tr>\n",
       "      <th>3</th>\n",
       "      <td>3622.126783</td>\n",
       "      <td>15645.998415</td>\n",
       "      <td>32.019017</td>\n",
       "      <td>6074.627575</td>\n",
       "      <td>7256.109350</td>\n",
       "      <td>60.743265</td>\n",
       "      <td>36.367670</td>\n",
       "      <td>0.0</td>\n",
       "      <td>0.0</td>\n",
       "      <td>1.0</td>\n",
       "      <td>...</td>\n",
       "      <td>0.385895</td>\n",
       "      <td>0.409667</td>\n",
       "      <td>0.085578</td>\n",
       "      <td>0.118859</td>\n",
       "      <td>0.194929</td>\n",
       "      <td>0.203645</td>\n",
       "      <td>0.125990</td>\n",
       "      <td>0.112520</td>\n",
       "      <td>0.073693</td>\n",
       "      <td>0.081616</td>\n",
       "    </tr>\n",
       "    <tr>\n",
       "      <th>4</th>\n",
       "      <td>3595.636103</td>\n",
       "      <td>15800.143266</td>\n",
       "      <td>29.161414</td>\n",
       "      <td>6282.664756</td>\n",
       "      <td>7296.198663</td>\n",
       "      <td>61.396371</td>\n",
       "      <td>38.328558</td>\n",
       "      <td>0.0</td>\n",
       "      <td>0.0</td>\n",
       "      <td>0.0</td>\n",
       "      <td>...</td>\n",
       "      <td>0.411652</td>\n",
       "      <td>0.441261</td>\n",
       "      <td>0.043935</td>\n",
       "      <td>0.103152</td>\n",
       "      <td>0.194842</td>\n",
       "      <td>0.147087</td>\n",
       "      <td>0.154728</td>\n",
       "      <td>0.127985</td>\n",
       "      <td>0.091691</td>\n",
       "      <td>0.120344</td>\n",
       "    </tr>\n",
       "    <tr>\n",
       "      <th>5</th>\n",
       "      <td>3609.398545</td>\n",
       "      <td>13971.705740</td>\n",
       "      <td>28.402587</td>\n",
       "      <td>5530.024252</td>\n",
       "      <td>6476.176233</td>\n",
       "      <td>62.061439</td>\n",
       "      <td>40.121261</td>\n",
       "      <td>0.0</td>\n",
       "      <td>0.0</td>\n",
       "      <td>0.0</td>\n",
       "      <td>...</td>\n",
       "      <td>0.540825</td>\n",
       "      <td>0.284559</td>\n",
       "      <td>0.115602</td>\n",
       "      <td>0.059014</td>\n",
       "      <td>0.198868</td>\n",
       "      <td>0.243331</td>\n",
       "      <td>0.210186</td>\n",
       "      <td>0.136621</td>\n",
       "      <td>0.131770</td>\n",
       "      <td>0.088116</td>\n",
       "    </tr>\n",
       "    <tr>\n",
       "      <th>6</th>\n",
       "      <td>3656.309446</td>\n",
       "      <td>15461.726384</td>\n",
       "      <td>24.856678</td>\n",
       "      <td>6396.710098</td>\n",
       "      <td>7163.550489</td>\n",
       "      <td>63.986971</td>\n",
       "      <td>43.179153</td>\n",
       "      <td>0.0</td>\n",
       "      <td>0.0</td>\n",
       "      <td>0.0</td>\n",
       "      <td>...</td>\n",
       "      <td>0.635179</td>\n",
       "      <td>0.185668</td>\n",
       "      <td>0.117264</td>\n",
       "      <td>0.061889</td>\n",
       "      <td>0.117264</td>\n",
       "      <td>0.058632</td>\n",
       "      <td>0.091205</td>\n",
       "      <td>0.061889</td>\n",
       "      <td>0.061889</td>\n",
       "      <td>0.032573</td>\n",
       "    </tr>\n",
       "    <tr>\n",
       "      <th>7</th>\n",
       "      <td>3655.945312</td>\n",
       "      <td>14806.640625</td>\n",
       "      <td>26.078125</td>\n",
       "      <td>6181.875000</td>\n",
       "      <td>6833.203125</td>\n",
       "      <td>66.703125</td>\n",
       "      <td>39.523438</td>\n",
       "      <td>0.0</td>\n",
       "      <td>0.0</td>\n",
       "      <td>0.0</td>\n",
       "      <td>...</td>\n",
       "      <td>0.703125</td>\n",
       "      <td>0.070312</td>\n",
       "      <td>0.148438</td>\n",
       "      <td>0.078125</td>\n",
       "      <td>0.148438</td>\n",
       "      <td>0.070312</td>\n",
       "      <td>0.070312</td>\n",
       "      <td>0.000000</td>\n",
       "      <td>0.062500</td>\n",
       "      <td>0.000000</td>\n",
       "    </tr>\n",
       "    <tr>\n",
       "      <th>8</th>\n",
       "      <td>3609.739583</td>\n",
       "      <td>8867.187500</td>\n",
       "      <td>25.458333</td>\n",
       "      <td>3783.333333</td>\n",
       "      <td>4072.708333</td>\n",
       "      <td>61.625000</td>\n",
       "      <td>39.958333</td>\n",
       "      <td>0.0</td>\n",
       "      <td>0.0</td>\n",
       "      <td>0.0</td>\n",
       "      <td>...</td>\n",
       "      <td>1.000000</td>\n",
       "      <td>0.000000</td>\n",
       "      <td>0.000000</td>\n",
       "      <td>0.000000</td>\n",
       "      <td>0.166667</td>\n",
       "      <td>0.166667</td>\n",
       "      <td>0.281250</td>\n",
       "      <td>0.177083</td>\n",
       "      <td>0.104167</td>\n",
       "      <td>0.000000</td>\n",
       "    </tr>\n",
       "  </tbody>\n",
       "</table>\n",
       "<p>8 rows × 25 columns</p>\n",
       "</div>"
      ],
      "text/plain": [
       "                            loan_id  monthly_income  TOB_months  \\\n",
       "origination_score_band                                            \n",
       "1                       3661.390805     8813.218391   24.632184   \n",
       "2                       3610.497196    12857.943925   23.295327   \n",
       "3                       3622.126783    15645.998415   32.019017   \n",
       "4                       3595.636103    15800.143266   29.161414   \n",
       "5                       3609.398545    13971.705740   28.402587   \n",
       "6                       3656.309446    15461.726384   24.856678   \n",
       "7                       3655.945312    14806.640625   26.078125   \n",
       "8                       3609.739583     8867.187500   25.458333   \n",
       "\n",
       "                        closing_principal_balance  original_loan_amount  \\\n",
       "origination_score_band                                                    \n",
       "1                                     3546.206897           4095.325670   \n",
       "2                                     5536.691589           6051.009346   \n",
       "3                                     6074.627575           7256.109350   \n",
       "4                                     6282.664756           7296.198663   \n",
       "5                                     5530.024252           6476.176233   \n",
       "6                                     6396.710098           7163.550489   \n",
       "7                                     6181.875000           6833.203125   \n",
       "8                                     3783.333333           4072.708333   \n",
       "\n",
       "                        original_loan_term  remaining_loan_term  \\\n",
       "origination_score_band                                            \n",
       "1                                68.827586            48.570881   \n",
       "2                                61.514019            42.289720   \n",
       "3                                60.743265            36.367670   \n",
       "4                                61.396371            38.328558   \n",
       "5                                62.061439            40.121261   \n",
       "6                                63.986971            43.179153   \n",
       "7                                66.703125            39.523438   \n",
       "8                                61.625000            39.958333   \n",
       "\n",
       "                        origination_score_band_1  origination_score_band_2  \\\n",
       "origination_score_band                                                       \n",
       "1                                            1.0                       0.0   \n",
       "2                                            0.0                       1.0   \n",
       "3                                            0.0                       0.0   \n",
       "4                                            0.0                       0.0   \n",
       "5                                            0.0                       0.0   \n",
       "6                                            0.0                       0.0   \n",
       "7                                            0.0                       0.0   \n",
       "8                                            0.0                       0.0   \n",
       "\n",
       "                        origination_score_band_3  ...  product_A  product_B  \\\n",
       "origination_score_band                            ...                         \n",
       "1                                            0.0  ...   0.835249   0.000000   \n",
       "2                                            0.0  ...   0.551402   0.291589   \n",
       "3                                            1.0  ...   0.385895   0.409667   \n",
       "4                                            0.0  ...   0.411652   0.441261   \n",
       "5                                            0.0  ...   0.540825   0.284559   \n",
       "6                                            0.0  ...   0.635179   0.185668   \n",
       "7                                            0.0  ...   0.703125   0.070312   \n",
       "8                                            0.0  ...   1.000000   0.000000   \n",
       "\n",
       "                        product_C  product_D    delq_1    delq_2    delq_3  \\\n",
       "origination_score_band                                                       \n",
       "1                        0.000000   0.164751  0.065134  0.153257  0.076628   \n",
       "2                        0.033645   0.123364  0.194393  0.194393  0.173832   \n",
       "3                        0.085578   0.118859  0.194929  0.203645  0.125990   \n",
       "4                        0.043935   0.103152  0.194842  0.147087  0.154728   \n",
       "5                        0.115602   0.059014  0.198868  0.243331  0.210186   \n",
       "6                        0.117264   0.061889  0.117264  0.058632  0.091205   \n",
       "7                        0.148438   0.078125  0.148438  0.070312  0.070312   \n",
       "8                        0.000000   0.000000  0.166667  0.166667  0.281250   \n",
       "\n",
       "                          delq_4    delq_5    delq_6  \n",
       "origination_score_band                                \n",
       "1                       0.038314  0.034483  0.072797  \n",
       "2                       0.050467  0.052336  0.033645  \n",
       "3                       0.112520  0.073693  0.081616  \n",
       "4                       0.127985  0.091691  0.120344  \n",
       "5                       0.136621  0.131770  0.088116  \n",
       "6                       0.061889  0.061889  0.032573  \n",
       "7                       0.000000  0.062500  0.000000  \n",
       "8                       0.177083  0.104167  0.000000  \n",
       "\n",
       "[8 rows x 25 columns]"
      ]
     },
     "execution_count": 62,
     "metadata": {},
     "output_type": "execute_result"
    }
   ],
   "source": [
    "dg.groupby('origination_score_band').mean()"
   ]
  },
  {
   "cell_type": "markdown",
   "metadata": {},
   "source": [
    "Visualizations"
   ]
  },
  {
   "cell_type": "code",
   "execution_count": 63,
   "metadata": {},
   "outputs": [
    {
     "data": {
      "image/png": "[encoded data removed]",
      "text/plain": [
       "<Figure size 432x288 with 1 Axes>"
      ]
     },
     "metadata": {},
     "output_type": "display_data"
    }
   ],
   "source": [
    "sns.countplot(x='origination_score_band', data=dg, hue=\"target\")\n",
    "plt.show()"
   ]
  },
  {
   "cell_type": "code",
   "execution_count": 64,
   "metadata": {},
   "outputs": [
    {
     "data": {
      "image/png": "[encoded data removed]",
      "text/plain": [
       "<Figure size 432x288 with 1 Axes>"
      ]
     },
     "metadata": {},
     "output_type": "display_data"
    }
   ],
   "source": [
    "sns.countplot(x='product', data=dg, hue=\"target\")\n",
    "plt.show()"
   ]
  },
  {
   "cell_type": "code",
   "execution_count": 65,
   "metadata": {},
   "outputs": [
    {
     "data": {
      "text/plain": [
       "Text(0, 0.5, 'Deliquency')"
      ]
     },
     "execution_count": 65,
     "metadata": {},
     "output_type": "execute_result"
    },
    {
     "data": {
      "image/png": "[encoded data removed]",
      "text/plain": [
       "<Figure size 432x288 with 1 Axes>"
      ]
     },
     "metadata": {
      "needs_background": "light"
     },
     "output_type": "display_data"
    }
   ],
   "source": [
    "%matplotlib inline\n",
    "pd.crosstab(dg.origination_score_band, dg.target ).plot(kind='bar')\n",
    "plt.title('Delinquency per Origination score band')\n",
    "plt.xlabel('Origination score band')\n",
    "plt.ylabel('Deliquency')\n",
    "# plt.savefig('Delinquency per product')"
   ]
  },
  {
   "cell_type": "code",
   "execution_count": 66,
   "metadata": {},
   "outputs": [
    {
     "data": {
      "text/plain": [
       "<Figure size 1080x360 with 0 Axes>"
      ]
     },
     "metadata": {},
     "output_type": "display_data"
    },
    {
     "data": {
      "image/png": "[encoded data removed]",
      "text/plain": [
       "<Figure size 432x288 with 1 Axes>"
      ]
     },
     "metadata": {
      "needs_background": "light"
     },
     "output_type": "display_data"
    }
   ],
   "source": [
    "table=pd.crosstab(dg.origination_score_band,dg.target)\n",
    "plt.figure(figsize=(15,5))\n",
    "table.div(table.sum(1).astype(float), axis=0).plot(kind='bar', stacked=True)\n",
    "plt.title('Stacked Bar Chart of origination_score_band vs target')\n",
    "plt.xlabel('origination_score_band')\n",
    "plt.ylabel('Proportion of Customers')\n",
    "# plt.savefig('mariral_vs_pur_stack')\n",
    "plt.show()"
   ]
  },
  {
   "cell_type": "code",
   "execution_count": 67,
   "metadata": {},
   "outputs": [
    {
     "data": {
      "text/plain": [
       "<AxesSubplot:xlabel='monthly_income'>"
      ]
     },
     "execution_count": 67,
     "metadata": {},
     "output_type": "execute_result"
    },
    {
     "data": {
      "image/png": "[encoded data removed]",
      "text/plain": [
       "<Figure size 432x288 with 1 Axes>"
      ]
     },
     "metadata": {
      "needs_background": "light"
     },
     "output_type": "display_data"
    }
   ],
   "source": [
    "# plt.figure(figsize=(20,5))\n",
    "table=pd.crosstab(dg.monthly_income,dg.target)\n",
    "table\n",
    "table.div(table.sum(1).astype(float), axis=0).plot(kind='bar', stacked=True)\n",
    "# plt.title('Stacked Bar Chart of Montlhy Income vs Target')\n",
    "# plt.xlabel('Monthly Income')\n",
    "# plt.ylabel('Proportion of Customers')\n",
    "# plt.savefig('mariral_vs_pur_stack')\n",
    "# plt.show()"
   ]
  },
  {
   "cell_type": "code",
   "execution_count": 68,
   "metadata": {},
   "outputs": [
    {
     "data": {
      "image/png": "[encoded data removed]",
      "text/plain": [
       "<Figure size 432x288 with 1 Axes>"
      ]
     },
     "metadata": {
      "needs_background": "light"
     },
     "output_type": "display_data"
    }
   ],
   "source": [
    "dg.monthly_income.hist()\n",
    "plt.title('Histogram of monthly income')\n",
    "plt.xlabel('monthly income')\n",
    "plt.ylabel('Frequency')\n",
    "plt.show()\n",
    "# plt.savefig('hist_age')"
   ]
  },
  {
   "cell_type": "code",
   "execution_count": 69,
   "metadata": {},
   "outputs": [
    {
     "data": {
      "image/png": "[encoded data removed]",
      "text/plain": [
       "<Figure size 720x360 with 1 Axes>"
      ]
     },
     "metadata": {
      "needs_background": "light"
     },
     "output_type": "display_data"
    }
   ],
   "source": [
    "# dg.plot(kind='histogram')\n",
    "# https://www.python-graph-gallery.com/20-basic-histogram-seaborn\n",
    "plt.figure(figsize=(10,5))\n",
    "sns.set(style=\"darkgrid\")\n",
    "sns.histplot(data=dg, x =\"monthly_income\", hue=\"target\", bins=20)\n",
    "plt.title('Histogram of Monthly Income')\n",
    "plt.show()"
   ]
  },
  {
   "cell_type": "markdown",
   "metadata": {},
   "source": [
    "# One-hot encoding of Categorical Data\n",
    "\n",
    "https://towardsdatascience.com/categorical-variables-for-machine-learning-algorithms-d2768d587ab6"
   ]
  },
  {
   "cell_type": "markdown",
   "metadata": {},
   "source": [
    "Converting Origination Score Band into binary data"
   ]
  },
  {
   "cell_type": "code",
   "execution_count": 70,
   "metadata": {},
   "outputs": [],
   "source": [
    "from sklearn.preprocessing import OneHotEncoder\n",
    "encoder = OneHotEncoder()\n",
    "onehotarray = encoder.fit_transform(dg[[\"origination_score_band\"]]).toarray()\n",
    "items = [f'{\"origination_score_band\"}_{item}' for item in encoder.categories_[0]]\n",
    "dg[items] = onehotarray\n",
    "# ,\"product\",\"delq_history\""
   ]
  },
  {
   "cell_type": "markdown",
   "metadata": {},
   "source": [
    "Converting Product into binary data"
   ]
  },
  {
   "cell_type": "code",
   "execution_count": 71,
   "metadata": {},
   "outputs": [],
   "source": [
    "encoder = OneHotEncoder()\n",
    "onehotarray = encoder.fit_transform(dg[[\"product\"]]).toarray()\n",
    "items = [f'{\"product\"}_{item}' for item in encoder.categories_[0]]\n",
    "dg[items] = onehotarray"
   ]
  },
  {
   "cell_type": "code",
   "execution_count": null,
   "metadata": {},
   "outputs": [],
   "source": []
  },
  {
   "cell_type": "markdown",
   "metadata": {},
   "source": [
    "separating Delq_history into columns"
   ]
  },
  {
   "cell_type": "code",
   "execution_count": 72,
   "metadata": {},
   "outputs": [],
   "source": [
    "def funct(x,i):\n",
    "    return x[i]\n",
    "        \n",
    "for i in range(6):        \n",
    "    dg[f'delq_{i+1}'] = dg['delq_history'].apply(funct,args=(i,))\n",
    "# # len(dg['delq_history'])\n",
    "\n"
   ]
  },
  {
   "cell_type": "markdown",
   "metadata": {},
   "source": [
    "P-Test to check for statistical significance\n"
   ]
  },
  {
   "cell_type": "code",
   "execution_count": 73,
   "metadata": {},
   "outputs": [
    {
     "data": {
      "text/html": [
       "<div>\n",
       "<style scoped>\n",
       "    .dataframe tbody tr th:only-of-type {\n",
       "        vertical-align: middle;\n",
       "    }\n",
       "\n",
       "    .dataframe tbody tr th {\n",
       "        vertical-align: top;\n",
       "    }\n",
       "\n",
       "    .dataframe thead th {\n",
       "        text-align: right;\n",
       "    }\n",
       "</style>\n",
       "<table border=\"1\" class=\"dataframe\">\n",
       "  <thead>\n",
       "    <tr style=\"text-align: right;\">\n",
       "      <th></th>\n",
       "      <th>r</th>\n",
       "      <th>P-value</th>\n",
       "    </tr>\n",
       "  </thead>\n",
       "  <tbody>\n",
       "    <tr>\n",
       "      <th>loan_id</th>\n",
       "      <td>0.0065</td>\n",
       "      <td>0.6494</td>\n",
       "    </tr>\n",
       "    <tr>\n",
       "      <th>monthly_income</th>\n",
       "      <td>-0.0491</td>\n",
       "      <td>0.0006</td>\n",
       "    </tr>\n",
       "    <tr>\n",
       "      <th>TOB_months</th>\n",
       "      <td>0.0427</td>\n",
       "      <td>0.0029</td>\n",
       "    </tr>\n",
       "    <tr>\n",
       "      <th>closing_principal_balance</th>\n",
       "      <td>-0.0383</td>\n",
       "      <td>0.0075</td>\n",
       "    </tr>\n",
       "    <tr>\n",
       "      <th>original_loan_amount</th>\n",
       "      <td>-0.0381</td>\n",
       "      <td>0.0079</td>\n",
       "    </tr>\n",
       "    <tr>\n",
       "      <th>original_loan_term</th>\n",
       "      <td>-0.0041</td>\n",
       "      <td>0.7742</td>\n",
       "    </tr>\n",
       "    <tr>\n",
       "      <th>remaining_loan_term</th>\n",
       "      <td>0.0014</td>\n",
       "      <td>0.9230</td>\n",
       "    </tr>\n",
       "    <tr>\n",
       "      <th>origination_score_band_1</th>\n",
       "      <td>-0.0064</td>\n",
       "      <td>0.6570</td>\n",
       "    </tr>\n",
       "    <tr>\n",
       "      <th>origination_score_band_2</th>\n",
       "      <td>-0.0936</td>\n",
       "      <td>0.0000</td>\n",
       "    </tr>\n",
       "    <tr>\n",
       "      <th>origination_score_band_3</th>\n",
       "      <td>-0.0369</td>\n",
       "      <td>0.0099</td>\n",
       "    </tr>\n",
       "    <tr>\n",
       "      <th>origination_score_band_4</th>\n",
       "      <td>0.0178</td>\n",
       "      <td>0.2144</td>\n",
       "    </tr>\n",
       "    <tr>\n",
       "      <th>origination_score_band_5</th>\n",
       "      <td>0.0220</td>\n",
       "      <td>0.1245</td>\n",
       "    </tr>\n",
       "    <tr>\n",
       "      <th>origination_score_band_6</th>\n",
       "      <td>0.1051</td>\n",
       "      <td>0.0000</td>\n",
       "    </tr>\n",
       "    <tr>\n",
       "      <th>origination_score_band_7</th>\n",
       "      <td>0.0046</td>\n",
       "      <td>0.7470</td>\n",
       "    </tr>\n",
       "    <tr>\n",
       "      <th>origination_score_band_8</th>\n",
       "      <td>0.0266</td>\n",
       "      <td>0.0638</td>\n",
       "    </tr>\n",
       "    <tr>\n",
       "      <th>product_A</th>\n",
       "      <td>0.0140</td>\n",
       "      <td>0.3272</td>\n",
       "    </tr>\n",
       "    <tr>\n",
       "      <th>product_B</th>\n",
       "      <td>-0.1224</td>\n",
       "      <td>0.0000</td>\n",
       "    </tr>\n",
       "    <tr>\n",
       "      <th>product_C</th>\n",
       "      <td>0.0391</td>\n",
       "      <td>0.0063</td>\n",
       "    </tr>\n",
       "    <tr>\n",
       "      <th>product_D</th>\n",
       "      <td>0.1344</td>\n",
       "      <td>0.0000</td>\n",
       "    </tr>\n",
       "    <tr>\n",
       "      <th>delq_1</th>\n",
       "      <td>-0.0518</td>\n",
       "      <td>0.0003</td>\n",
       "    </tr>\n",
       "    <tr>\n",
       "      <th>delq_2</th>\n",
       "      <td>0.0226</td>\n",
       "      <td>0.1143</td>\n",
       "    </tr>\n",
       "    <tr>\n",
       "      <th>delq_3</th>\n",
       "      <td>-0.0093</td>\n",
       "      <td>0.5142</td>\n",
       "    </tr>\n",
       "    <tr>\n",
       "      <th>delq_4</th>\n",
       "      <td>0.0202</td>\n",
       "      <td>0.1587</td>\n",
       "    </tr>\n",
       "    <tr>\n",
       "      <th>delq_5</th>\n",
       "      <td>-0.0125</td>\n",
       "      <td>0.3846</td>\n",
       "    </tr>\n",
       "    <tr>\n",
       "      <th>delq_6</th>\n",
       "      <td>0.0603</td>\n",
       "      <td>0.0000</td>\n",
       "    </tr>\n",
       "  </tbody>\n",
       "</table>\n",
       "</div>"
      ],
      "text/plain": [
       "                                r  P-value\n",
       "loan_id                    0.0065   0.6494\n",
       "monthly_income            -0.0491   0.0006\n",
       "TOB_months                 0.0427   0.0029\n",
       "closing_principal_balance -0.0383   0.0075\n",
       "original_loan_amount      -0.0381   0.0079\n",
       "original_loan_term        -0.0041   0.7742\n",
       "remaining_loan_term        0.0014   0.9230\n",
       "origination_score_band_1  -0.0064   0.6570\n",
       "origination_score_band_2  -0.0936   0.0000\n",
       "origination_score_band_3  -0.0369   0.0099\n",
       "origination_score_band_4   0.0178   0.2144\n",
       "origination_score_band_5   0.0220   0.1245\n",
       "origination_score_band_6   0.1051   0.0000\n",
       "origination_score_band_7   0.0046   0.7470\n",
       "origination_score_band_8   0.0266   0.0638\n",
       "product_A                  0.0140   0.3272\n",
       "product_B                 -0.1224   0.0000\n",
       "product_C                  0.0391   0.0063\n",
       "product_D                  0.1344   0.0000\n",
       "delq_1                    -0.0518   0.0003\n",
       "delq_2                     0.0226   0.1143\n",
       "delq_3                    -0.0093   0.5142\n",
       "delq_4                     0.0202   0.1587\n",
       "delq_5                    -0.0125   0.3846\n",
       "delq_6                     0.0603   0.0000"
      ]
     },
     "execution_count": 73,
     "metadata": {},
     "output_type": "execute_result"
    }
   ],
   "source": [
    "from scipy import stats\n",
    "\n",
    "corr_df = pd.DataFrame(columns=['r', 'P-value'])\n",
    "\n",
    "for col in dg:\n",
    "    if pd.api.types.is_numeric_dtype(dg[col]):\n",
    "        r , p = stats.pearsonr(dg.target, dg[col])\n",
    "        corr_df.loc[col] = [round(r, 4), round(p, 4)]\n",
    "    \n",
    "corr_df"
   ]
  },
  {
   "cell_type": "markdown",
   "metadata": {},
   "source": [
    "original_loan_term\n",
    "remaining_loan_term\n",
    "delq_2\n",
    "delq_3\n",
    "delq_4\n",
    "delq_5\n",
    "delq_6"
   ]
  },
  {
   "cell_type": "code",
   "execution_count": null,
   "metadata": {},
   "outputs": [],
   "source": []
  },
  {
   "cell_type": "markdown",
   "metadata": {},
   "source": [
    "# Machine Learning"
   ]
  },
  {
   "cell_type": "code",
   "execution_count": 103,
   "metadata": {},
   "outputs": [],
   "source": [
    "y = dg.target.values\n",
    "\n",
    "x_data = dg.drop(['loan_id','target','delq_history','product','origination_score_band'], axis='columns') \n",
    "# x_data = dg.drop(['loan_id','target','delq_history','product','origination_score_band','origination_score_band_1','origination_score_band_2','origination_score_band_3','origination_score_band_4','origination_score_band_5','origination_score_band_6','origination_score_band_7','origination_score_band_8',\"original_loan_term\", \"remaining_loan_term\",\"delq_2\", \"delq_3\", \"delq_4\", \"delq_5\", \"delq_6\",'product_A'], axis='columns') \n"
   ]
  },
  {
   "cell_type": "code",
   "execution_count": 104,
   "metadata": {},
   "outputs": [
    {
     "data": {
      "text/html": [
       "<div>\n",
       "<style scoped>\n",
       "    .dataframe tbody tr th:only-of-type {\n",
       "        vertical-align: middle;\n",
       "    }\n",
       "\n",
       "    .dataframe tbody tr th {\n",
       "        vertical-align: top;\n",
       "    }\n",
       "\n",
       "    .dataframe thead th {\n",
       "        text-align: right;\n",
       "    }\n",
       "</style>\n",
       "<table border=\"1\" class=\"dataframe\">\n",
       "  <thead>\n",
       "    <tr style=\"text-align: right;\">\n",
       "      <th></th>\n",
       "      <th>monthly_income</th>\n",
       "      <th>TOB_months</th>\n",
       "      <th>closing_principal_balance</th>\n",
       "      <th>original_loan_amount</th>\n",
       "      <th>original_loan_term</th>\n",
       "      <th>remaining_loan_term</th>\n",
       "      <th>origination_score_band_1</th>\n",
       "      <th>origination_score_band_2</th>\n",
       "      <th>origination_score_band_3</th>\n",
       "      <th>origination_score_band_4</th>\n",
       "      <th>...</th>\n",
       "      <th>product_A</th>\n",
       "      <th>product_B</th>\n",
       "      <th>product_C</th>\n",
       "      <th>product_D</th>\n",
       "      <th>delq_1</th>\n",
       "      <th>delq_2</th>\n",
       "      <th>delq_3</th>\n",
       "      <th>delq_4</th>\n",
       "      <th>delq_5</th>\n",
       "      <th>delq_6</th>\n",
       "    </tr>\n",
       "  </thead>\n",
       "  <tbody>\n",
       "    <tr>\n",
       "      <th>0</th>\n",
       "      <td>6000.0</td>\n",
       "      <td>83.0</td>\n",
       "      <td>300.0</td>\n",
       "      <td>1800.0</td>\n",
       "      <td>24</td>\n",
       "      <td>5</td>\n",
       "      <td>0.0</td>\n",
       "      <td>0.0</td>\n",
       "      <td>0.0</td>\n",
       "      <td>0.0</td>\n",
       "      <td>...</td>\n",
       "      <td>0.0</td>\n",
       "      <td>1.0</td>\n",
       "      <td>0.0</td>\n",
       "      <td>0.0</td>\n",
       "      <td>0</td>\n",
       "      <td>0</td>\n",
       "      <td>0</td>\n",
       "      <td>0</td>\n",
       "      <td>0</td>\n",
       "      <td>0</td>\n",
       "    </tr>\n",
       "    <tr>\n",
       "      <th>1</th>\n",
       "      <td>39000.0</td>\n",
       "      <td>82.0</td>\n",
       "      <td>7200.0</td>\n",
       "      <td>11700.0</td>\n",
       "      <td>60</td>\n",
       "      <td>42</td>\n",
       "      <td>0.0</td>\n",
       "      <td>0.0</td>\n",
       "      <td>0.0</td>\n",
       "      <td>0.0</td>\n",
       "      <td>...</td>\n",
       "      <td>0.0</td>\n",
       "      <td>1.0</td>\n",
       "      <td>0.0</td>\n",
       "      <td>0.0</td>\n",
       "      <td>0</td>\n",
       "      <td>1</td>\n",
       "      <td>0</td>\n",
       "      <td>0</td>\n",
       "      <td>0</td>\n",
       "      <td>0</td>\n",
       "    </tr>\n",
       "    <tr>\n",
       "      <th>2</th>\n",
       "      <td>18000.0</td>\n",
       "      <td>78.0</td>\n",
       "      <td>2700.0</td>\n",
       "      <td>5400.0</td>\n",
       "      <td>60</td>\n",
       "      <td>46</td>\n",
       "      <td>0.0</td>\n",
       "      <td>0.0</td>\n",
       "      <td>0.0</td>\n",
       "      <td>0.0</td>\n",
       "      <td>...</td>\n",
       "      <td>0.0</td>\n",
       "      <td>1.0</td>\n",
       "      <td>0.0</td>\n",
       "      <td>0.0</td>\n",
       "      <td>0</td>\n",
       "      <td>0</td>\n",
       "      <td>1</td>\n",
       "      <td>0</td>\n",
       "      <td>0</td>\n",
       "      <td>0</td>\n",
       "    </tr>\n",
       "    <tr>\n",
       "      <th>3</th>\n",
       "      <td>23250.0</td>\n",
       "      <td>76.0</td>\n",
       "      <td>3900.0</td>\n",
       "      <td>6900.0</td>\n",
       "      <td>60</td>\n",
       "      <td>48</td>\n",
       "      <td>0.0</td>\n",
       "      <td>0.0</td>\n",
       "      <td>1.0</td>\n",
       "      <td>0.0</td>\n",
       "      <td>...</td>\n",
       "      <td>0.0</td>\n",
       "      <td>1.0</td>\n",
       "      <td>0.0</td>\n",
       "      <td>0.0</td>\n",
       "      <td>1</td>\n",
       "      <td>1</td>\n",
       "      <td>0</td>\n",
       "      <td>1</td>\n",
       "      <td>0</td>\n",
       "      <td>0</td>\n",
       "    </tr>\n",
       "    <tr>\n",
       "      <th>4</th>\n",
       "      <td>12000.0</td>\n",
       "      <td>74.0</td>\n",
       "      <td>2100.0</td>\n",
       "      <td>3600.0</td>\n",
       "      <td>60</td>\n",
       "      <td>50</td>\n",
       "      <td>0.0</td>\n",
       "      <td>0.0</td>\n",
       "      <td>1.0</td>\n",
       "      <td>0.0</td>\n",
       "      <td>...</td>\n",
       "      <td>0.0</td>\n",
       "      <td>1.0</td>\n",
       "      <td>0.0</td>\n",
       "      <td>0.0</td>\n",
       "      <td>1</td>\n",
       "      <td>0</td>\n",
       "      <td>0</td>\n",
       "      <td>0</td>\n",
       "      <td>0</td>\n",
       "      <td>0</td>\n",
       "    </tr>\n",
       "    <tr>\n",
       "      <th>...</th>\n",
       "      <td>...</td>\n",
       "      <td>...</td>\n",
       "      <td>...</td>\n",
       "      <td>...</td>\n",
       "      <td>...</td>\n",
       "      <td>...</td>\n",
       "      <td>...</td>\n",
       "      <td>...</td>\n",
       "      <td>...</td>\n",
       "      <td>...</td>\n",
       "      <td>...</td>\n",
       "      <td>...</td>\n",
       "      <td>...</td>\n",
       "      <td>...</td>\n",
       "      <td>...</td>\n",
       "      <td>...</td>\n",
       "      <td>...</td>\n",
       "      <td>...</td>\n",
       "      <td>...</td>\n",
       "      <td>...</td>\n",
       "      <td>...</td>\n",
       "    </tr>\n",
       "    <tr>\n",
       "      <th>4868</th>\n",
       "      <td>8250.0</td>\n",
       "      <td>6.0</td>\n",
       "      <td>6000.0</td>\n",
       "      <td>6000.0</td>\n",
       "      <td>36</td>\n",
       "      <td>35</td>\n",
       "      <td>0.0</td>\n",
       "      <td>0.0</td>\n",
       "      <td>0.0</td>\n",
       "      <td>1.0</td>\n",
       "      <td>...</td>\n",
       "      <td>1.0</td>\n",
       "      <td>0.0</td>\n",
       "      <td>0.0</td>\n",
       "      <td>0.0</td>\n",
       "      <td>0</td>\n",
       "      <td>0</td>\n",
       "      <td>0</td>\n",
       "      <td>0</td>\n",
       "      <td>0</td>\n",
       "      <td>0</td>\n",
       "    </tr>\n",
       "    <tr>\n",
       "      <th>4869</th>\n",
       "      <td>2250.0</td>\n",
       "      <td>6.0</td>\n",
       "      <td>1500.0</td>\n",
       "      <td>1500.0</td>\n",
       "      <td>12</td>\n",
       "      <td>11</td>\n",
       "      <td>0.0</td>\n",
       "      <td>0.0</td>\n",
       "      <td>0.0</td>\n",
       "      <td>0.0</td>\n",
       "      <td>...</td>\n",
       "      <td>0.0</td>\n",
       "      <td>0.0</td>\n",
       "      <td>1.0</td>\n",
       "      <td>0.0</td>\n",
       "      <td>0</td>\n",
       "      <td>0</td>\n",
       "      <td>0</td>\n",
       "      <td>0</td>\n",
       "      <td>0</td>\n",
       "      <td>0</td>\n",
       "    </tr>\n",
       "    <tr>\n",
       "      <th>4870</th>\n",
       "      <td>3750.0</td>\n",
       "      <td>6.0</td>\n",
       "      <td>3000.0</td>\n",
       "      <td>3000.0</td>\n",
       "      <td>60</td>\n",
       "      <td>65</td>\n",
       "      <td>0.0</td>\n",
       "      <td>0.0</td>\n",
       "      <td>0.0</td>\n",
       "      <td>0.0</td>\n",
       "      <td>...</td>\n",
       "      <td>0.0</td>\n",
       "      <td>0.0</td>\n",
       "      <td>0.0</td>\n",
       "      <td>1.0</td>\n",
       "      <td>0</td>\n",
       "      <td>0</td>\n",
       "      <td>0</td>\n",
       "      <td>0</td>\n",
       "      <td>0</td>\n",
       "      <td>0</td>\n",
       "    </tr>\n",
       "    <tr>\n",
       "      <th>4871</th>\n",
       "      <td>9750.0</td>\n",
       "      <td>6.0</td>\n",
       "      <td>7500.0</td>\n",
       "      <td>7500.0</td>\n",
       "      <td>60</td>\n",
       "      <td>65</td>\n",
       "      <td>0.0</td>\n",
       "      <td>0.0</td>\n",
       "      <td>0.0</td>\n",
       "      <td>0.0</td>\n",
       "      <td>...</td>\n",
       "      <td>0.0</td>\n",
       "      <td>0.0</td>\n",
       "      <td>0.0</td>\n",
       "      <td>1.0</td>\n",
       "      <td>0</td>\n",
       "      <td>0</td>\n",
       "      <td>0</td>\n",
       "      <td>0</td>\n",
       "      <td>0</td>\n",
       "      <td>0</td>\n",
       "    </tr>\n",
       "    <tr>\n",
       "      <th>4872</th>\n",
       "      <td>2250.0</td>\n",
       "      <td>6.0</td>\n",
       "      <td>1500.0</td>\n",
       "      <td>1500.0</td>\n",
       "      <td>36</td>\n",
       "      <td>35</td>\n",
       "      <td>0.0</td>\n",
       "      <td>0.0</td>\n",
       "      <td>0.0</td>\n",
       "      <td>0.0</td>\n",
       "      <td>...</td>\n",
       "      <td>0.0</td>\n",
       "      <td>0.0</td>\n",
       "      <td>1.0</td>\n",
       "      <td>0.0</td>\n",
       "      <td>0</td>\n",
       "      <td>0</td>\n",
       "      <td>0</td>\n",
       "      <td>0</td>\n",
       "      <td>0</td>\n",
       "      <td>0</td>\n",
       "    </tr>\n",
       "  </tbody>\n",
       "</table>\n",
       "<p>4873 rows × 24 columns</p>\n",
       "</div>"
      ],
      "text/plain": [
       "      monthly_income  TOB_months  closing_principal_balance  \\\n",
       "0             6000.0        83.0                      300.0   \n",
       "1            39000.0        82.0                     7200.0   \n",
       "2            18000.0        78.0                     2700.0   \n",
       "3            23250.0        76.0                     3900.0   \n",
       "4            12000.0        74.0                     2100.0   \n",
       "...              ...         ...                        ...   \n",
       "4868          8250.0         6.0                     6000.0   \n",
       "4869          2250.0         6.0                     1500.0   \n",
       "4870          3750.0         6.0                     3000.0   \n",
       "4871          9750.0         6.0                     7500.0   \n",
       "4872          2250.0         6.0                     1500.0   \n",
       "\n",
       "      original_loan_amount  original_loan_term  remaining_loan_term  \\\n",
       "0                   1800.0                  24                    5   \n",
       "1                  11700.0                  60                   42   \n",
       "2                   5400.0                  60                   46   \n",
       "3                   6900.0                  60                   48   \n",
       "4                   3600.0                  60                   50   \n",
       "...                    ...                 ...                  ...   \n",
       "4868                6000.0                  36                   35   \n",
       "4869                1500.0                  12                   11   \n",
       "4870                3000.0                  60                   65   \n",
       "4871                7500.0                  60                   65   \n",
       "4872                1500.0                  36                   35   \n",
       "\n",
       "      origination_score_band_1  origination_score_band_2  \\\n",
       "0                          0.0                       0.0   \n",
       "1                          0.0                       0.0   \n",
       "2                          0.0                       0.0   \n",
       "3                          0.0                       0.0   \n",
       "4                          0.0                       0.0   \n",
       "...                        ...                       ...   \n",
       "4868                       0.0                       0.0   \n",
       "4869                       0.0                       0.0   \n",
       "4870                       0.0                       0.0   \n",
       "4871                       0.0                       0.0   \n",
       "4872                       0.0                       0.0   \n",
       "\n",
       "      origination_score_band_3  origination_score_band_4  ...  product_A  \\\n",
       "0                          0.0                       0.0  ...        0.0   \n",
       "1                          0.0                       0.0  ...        0.0   \n",
       "2                          0.0                       0.0  ...        0.0   \n",
       "3                          1.0                       0.0  ...        0.0   \n",
       "4                          1.0                       0.0  ...        0.0   \n",
       "...                        ...                       ...  ...        ...   \n",
       "4868                       0.0                       1.0  ...        1.0   \n",
       "4869                       0.0                       0.0  ...        0.0   \n",
       "4870                       0.0                       0.0  ...        0.0   \n",
       "4871                       0.0                       0.0  ...        0.0   \n",
       "4872                       0.0                       0.0  ...        0.0   \n",
       "\n",
       "      product_B  product_C  product_D  delq_1  delq_2  delq_3  delq_4  delq_5  \\\n",
       "0           1.0        0.0        0.0       0       0       0       0       0   \n",
       "1           1.0        0.0        0.0       0       1       0       0       0   \n",
       "2           1.0        0.0        0.0       0       0       1       0       0   \n",
       "3           1.0        0.0        0.0       1       1       0       1       0   \n",
       "4           1.0        0.0        0.0       1       0       0       0       0   \n",
       "...         ...        ...        ...     ...     ...     ...     ...     ...   \n",
       "4868        0.0        0.0        0.0       0       0       0       0       0   \n",
       "4869        0.0        1.0        0.0       0       0       0       0       0   \n",
       "4870        0.0        0.0        1.0       0       0       0       0       0   \n",
       "4871        0.0        0.0        1.0       0       0       0       0       0   \n",
       "4872        0.0        1.0        0.0       0       0       0       0       0   \n",
       "\n",
       "      delq_6  \n",
       "0          0  \n",
       "1          0  \n",
       "2          0  \n",
       "3          0  \n",
       "4          0  \n",
       "...      ...  \n",
       "4868       0  \n",
       "4869       0  \n",
       "4870       0  \n",
       "4871       0  \n",
       "4872       0  \n",
       "\n",
       "[4873 rows x 24 columns]"
      ]
     },
     "execution_count": 104,
     "metadata": {},
     "output_type": "execute_result"
    }
   ],
   "source": [
    "x_data"
   ]
  },
  {
   "cell_type": "code",
   "execution_count": 105,
   "metadata": {},
   "outputs": [
    {
     "data": {
      "text/plain": [
       "[0, 0, 1, 0, 0, 0, 1, 1, 1]\n",
       "Categories (2, int64): [0, 1]"
      ]
     },
     "execution_count": 105,
     "metadata": {},
     "output_type": "execute_result"
    }
   ],
   "source": [
    "x_data\n",
    "y[1:10]"
   ]
  },
  {
   "cell_type": "code",
   "execution_count": 106,
   "metadata": {},
   "outputs": [
    {
     "name": "stderr",
     "output_type": "stream",
     "text": [
      "C:\\Users\\aduno\\AppData\\Local\\Packages\\PythonSoftwareFoundation.Python.3.10_qbz5n2kfra8p0\\LocalCache\\local-packages\\Python310\\site-packages\\numpy\\core\\fromnumeric.py:84: FutureWarning: In a future version, DataFrame.min(axis=None) will return a scalar min over the entire DataFrame. To retain the old behavior, use 'frame.min(axis=0)' or just 'frame.min()'\n",
      "  return reduction(axis=axis, out=out, **passkwargs)\n",
      "C:\\Users\\aduno\\AppData\\Local\\Packages\\PythonSoftwareFoundation.Python.3.10_qbz5n2kfra8p0\\LocalCache\\local-packages\\Python310\\site-packages\\numpy\\core\\fromnumeric.py:84: FutureWarning: In a future version, DataFrame.max(axis=None) will return a scalar max over the entire DataFrame. To retain the old behavior, use 'frame.max(axis=0)' or just 'frame.max()'\n",
      "  return reduction(axis=axis, out=out, **passkwargs)\n"
     ]
    },
    {
     "data": {
      "text/html": [
       "<div>\n",
       "<style scoped>\n",
       "    .dataframe tbody tr th:only-of-type {\n",
       "        vertical-align: middle;\n",
       "    }\n",
       "\n",
       "    .dataframe tbody tr th {\n",
       "        vertical-align: top;\n",
       "    }\n",
       "\n",
       "    .dataframe thead th {\n",
       "        text-align: right;\n",
       "    }\n",
       "</style>\n",
       "<table border=\"1\" class=\"dataframe\">\n",
       "  <thead>\n",
       "    <tr style=\"text-align: right;\">\n",
       "      <th></th>\n",
       "      <th>monthly_income</th>\n",
       "      <th>TOB_months</th>\n",
       "      <th>closing_principal_balance</th>\n",
       "      <th>original_loan_amount</th>\n",
       "      <th>original_loan_term</th>\n",
       "      <th>remaining_loan_term</th>\n",
       "      <th>origination_score_band_1</th>\n",
       "      <th>origination_score_band_2</th>\n",
       "      <th>origination_score_band_3</th>\n",
       "      <th>origination_score_band_4</th>\n",
       "      <th>...</th>\n",
       "      <th>product_A</th>\n",
       "      <th>product_B</th>\n",
       "      <th>product_C</th>\n",
       "      <th>product_D</th>\n",
       "      <th>delq_1</th>\n",
       "      <th>delq_2</th>\n",
       "      <th>delq_3</th>\n",
       "      <th>delq_4</th>\n",
       "      <th>delq_5</th>\n",
       "      <th>delq_6</th>\n",
       "    </tr>\n",
       "  </thead>\n",
       "  <tbody>\n",
       "    <tr>\n",
       "      <th>count</th>\n",
       "      <td>4873.000000</td>\n",
       "      <td>4873.000000</td>\n",
       "      <td>4873.000000</td>\n",
       "      <td>4873.000000</td>\n",
       "      <td>4873.000000</td>\n",
       "      <td>4873.000000</td>\n",
       "      <td>4873.000000</td>\n",
       "      <td>4873.000000</td>\n",
       "      <td>4873.000000</td>\n",
       "      <td>4873.000000</td>\n",
       "      <td>...</td>\n",
       "      <td>4873.000000</td>\n",
       "      <td>4873.000000</td>\n",
       "      <td>4873.000000</td>\n",
       "      <td>4873.000000</td>\n",
       "      <td>4873.000000</td>\n",
       "      <td>4873.000000</td>\n",
       "      <td>4873.000000</td>\n",
       "      <td>4873.000000</td>\n",
       "      <td>4873.000000</td>\n",
       "      <td>4873.000000</td>\n",
       "    </tr>\n",
       "    <tr>\n",
       "      <th>mean</th>\n",
       "      <td>0.138029</td>\n",
       "      <td>0.290871</td>\n",
       "      <td>0.064297</td>\n",
       "      <td>0.073253</td>\n",
       "      <td>0.278412</td>\n",
       "      <td>0.223889</td>\n",
       "      <td>0.053560</td>\n",
       "      <td>0.109789</td>\n",
       "      <td>0.258978</td>\n",
       "      <td>0.214857</td>\n",
       "      <td>...</td>\n",
       "      <td>0.509132</td>\n",
       "      <td>0.318695</td>\n",
       "      <td>0.075929</td>\n",
       "      <td>0.096245</td>\n",
       "      <td>0.060743</td>\n",
       "      <td>0.061495</td>\n",
       "      <td>0.051850</td>\n",
       "      <td>0.035433</td>\n",
       "      <td>0.029140</td>\n",
       "      <td>0.019752</td>\n",
       "    </tr>\n",
       "    <tr>\n",
       "      <th>std</th>\n",
       "      <td>0.140877</td>\n",
       "      <td>0.213240</td>\n",
       "      <td>0.090340</td>\n",
       "      <td>0.095804</td>\n",
       "      <td>0.132350</td>\n",
       "      <td>0.141819</td>\n",
       "      <td>0.225171</td>\n",
       "      <td>0.312658</td>\n",
       "      <td>0.438118</td>\n",
       "      <td>0.410766</td>\n",
       "      <td>...</td>\n",
       "      <td>0.499968</td>\n",
       "      <td>0.466018</td>\n",
       "      <td>0.264911</td>\n",
       "      <td>0.294957</td>\n",
       "      <td>0.141520</td>\n",
       "      <td>0.169324</td>\n",
       "      <td>0.145486</td>\n",
       "      <td>0.124251</td>\n",
       "      <td>0.115482</td>\n",
       "      <td>0.094123</td>\n",
       "    </tr>\n",
       "    <tr>\n",
       "      <th>min</th>\n",
       "      <td>0.000000</td>\n",
       "      <td>0.000000</td>\n",
       "      <td>0.000000</td>\n",
       "      <td>0.000000</td>\n",
       "      <td>0.000000</td>\n",
       "      <td>0.000000</td>\n",
       "      <td>0.000000</td>\n",
       "      <td>0.000000</td>\n",
       "      <td>0.000000</td>\n",
       "      <td>0.000000</td>\n",
       "      <td>...</td>\n",
       "      <td>0.000000</td>\n",
       "      <td>0.000000</td>\n",
       "      <td>0.000000</td>\n",
       "      <td>0.000000</td>\n",
       "      <td>0.000000</td>\n",
       "      <td>0.000000</td>\n",
       "      <td>0.000000</td>\n",
       "      <td>0.000000</td>\n",
       "      <td>0.000000</td>\n",
       "      <td>0.000000</td>\n",
       "    </tr>\n",
       "    <tr>\n",
       "      <th>25%</th>\n",
       "      <td>0.053030</td>\n",
       "      <td>0.129870</td>\n",
       "      <td>0.014529</td>\n",
       "      <td>0.018910</td>\n",
       "      <td>0.266667</td>\n",
       "      <td>0.129944</td>\n",
       "      <td>0.000000</td>\n",
       "      <td>0.000000</td>\n",
       "      <td>0.000000</td>\n",
       "      <td>0.000000</td>\n",
       "      <td>...</td>\n",
       "      <td>0.000000</td>\n",
       "      <td>0.000000</td>\n",
       "      <td>0.000000</td>\n",
       "      <td>0.000000</td>\n",
       "      <td>0.000000</td>\n",
       "      <td>0.000000</td>\n",
       "      <td>0.000000</td>\n",
       "      <td>0.000000</td>\n",
       "      <td>0.000000</td>\n",
       "      <td>0.000000</td>\n",
       "    </tr>\n",
       "    <tr>\n",
       "      <th>50%</th>\n",
       "      <td>0.090909</td>\n",
       "      <td>0.233766</td>\n",
       "      <td>0.035414</td>\n",
       "      <td>0.041157</td>\n",
       "      <td>0.266667</td>\n",
       "      <td>0.225989</td>\n",
       "      <td>0.000000</td>\n",
       "      <td>0.000000</td>\n",
       "      <td>0.000000</td>\n",
       "      <td>0.000000</td>\n",
       "      <td>...</td>\n",
       "      <td>1.000000</td>\n",
       "      <td>0.000000</td>\n",
       "      <td>0.000000</td>\n",
       "      <td>0.000000</td>\n",
       "      <td>0.000000</td>\n",
       "      <td>0.000000</td>\n",
       "      <td>0.000000</td>\n",
       "      <td>0.000000</td>\n",
       "      <td>0.000000</td>\n",
       "      <td>0.000000</td>\n",
       "    </tr>\n",
       "    <tr>\n",
       "      <th>75%</th>\n",
       "      <td>0.174242</td>\n",
       "      <td>0.415584</td>\n",
       "      <td>0.076050</td>\n",
       "      <td>0.088988</td>\n",
       "      <td>0.266667</td>\n",
       "      <td>0.288136</td>\n",
       "      <td>0.000000</td>\n",
       "      <td>0.000000</td>\n",
       "      <td>1.000000</td>\n",
       "      <td>0.000000</td>\n",
       "      <td>...</td>\n",
       "      <td>1.000000</td>\n",
       "      <td>1.000000</td>\n",
       "      <td>0.000000</td>\n",
       "      <td>0.000000</td>\n",
       "      <td>0.000000</td>\n",
       "      <td>0.000000</td>\n",
       "      <td>0.000000</td>\n",
       "      <td>0.000000</td>\n",
       "      <td>0.000000</td>\n",
       "      <td>0.000000</td>\n",
       "    </tr>\n",
       "    <tr>\n",
       "      <th>max</th>\n",
       "      <td>1.000000</td>\n",
       "      <td>1.000000</td>\n",
       "      <td>1.000000</td>\n",
       "      <td>1.000000</td>\n",
       "      <td>1.000000</td>\n",
       "      <td>1.000000</td>\n",
       "      <td>1.000000</td>\n",
       "      <td>1.000000</td>\n",
       "      <td>1.000000</td>\n",
       "      <td>1.000000</td>\n",
       "      <td>...</td>\n",
       "      <td>1.000000</td>\n",
       "      <td>1.000000</td>\n",
       "      <td>1.000000</td>\n",
       "      <td>1.000000</td>\n",
       "      <td>1.000000</td>\n",
       "      <td>1.000000</td>\n",
       "      <td>1.000000</td>\n",
       "      <td>1.000000</td>\n",
       "      <td>1.000000</td>\n",
       "      <td>1.000000</td>\n",
       "    </tr>\n",
       "  </tbody>\n",
       "</table>\n",
       "<p>8 rows × 24 columns</p>\n",
       "</div>"
      ],
      "text/plain": [
       "       monthly_income   TOB_months  closing_principal_balance  \\\n",
       "count     4873.000000  4873.000000                4873.000000   \n",
       "mean         0.138029     0.290871                   0.064297   \n",
       "std          0.140877     0.213240                   0.090340   \n",
       "min          0.000000     0.000000                   0.000000   \n",
       "25%          0.053030     0.129870                   0.014529   \n",
       "50%          0.090909     0.233766                   0.035414   \n",
       "75%          0.174242     0.415584                   0.076050   \n",
       "max          1.000000     1.000000                   1.000000   \n",
       "\n",
       "       original_loan_amount  original_loan_term  remaining_loan_term  \\\n",
       "count           4873.000000         4873.000000          4873.000000   \n",
       "mean               0.073253            0.278412             0.223889   \n",
       "std                0.095804            0.132350             0.141819   \n",
       "min                0.000000            0.000000             0.000000   \n",
       "25%                0.018910            0.266667             0.129944   \n",
       "50%                0.041157            0.266667             0.225989   \n",
       "75%                0.088988            0.266667             0.288136   \n",
       "max                1.000000            1.000000             1.000000   \n",
       "\n",
       "       origination_score_band_1  origination_score_band_2  \\\n",
       "count               4873.000000               4873.000000   \n",
       "mean                   0.053560                  0.109789   \n",
       "std                    0.225171                  0.312658   \n",
       "min                    0.000000                  0.000000   \n",
       "25%                    0.000000                  0.000000   \n",
       "50%                    0.000000                  0.000000   \n",
       "75%                    0.000000                  0.000000   \n",
       "max                    1.000000                  1.000000   \n",
       "\n",
       "       origination_score_band_3  origination_score_band_4  ...    product_A  \\\n",
       "count               4873.000000               4873.000000  ...  4873.000000   \n",
       "mean                   0.258978                  0.214857  ...     0.509132   \n",
       "std                    0.438118                  0.410766  ...     0.499968   \n",
       "min                    0.000000                  0.000000  ...     0.000000   \n",
       "25%                    0.000000                  0.000000  ...     0.000000   \n",
       "50%                    0.000000                  0.000000  ...     1.000000   \n",
       "75%                    1.000000                  0.000000  ...     1.000000   \n",
       "max                    1.000000                  1.000000  ...     1.000000   \n",
       "\n",
       "         product_B    product_C    product_D       delq_1       delq_2  \\\n",
       "count  4873.000000  4873.000000  4873.000000  4873.000000  4873.000000   \n",
       "mean      0.318695     0.075929     0.096245     0.060743     0.061495   \n",
       "std       0.466018     0.264911     0.294957     0.141520     0.169324   \n",
       "min       0.000000     0.000000     0.000000     0.000000     0.000000   \n",
       "25%       0.000000     0.000000     0.000000     0.000000     0.000000   \n",
       "50%       0.000000     0.000000     0.000000     0.000000     0.000000   \n",
       "75%       1.000000     0.000000     0.000000     0.000000     0.000000   \n",
       "max       1.000000     1.000000     1.000000     1.000000     1.000000   \n",
       "\n",
       "            delq_3       delq_4       delq_5       delq_6  \n",
       "count  4873.000000  4873.000000  4873.000000  4873.000000  \n",
       "mean      0.051850     0.035433     0.029140     0.019752  \n",
       "std       0.145486     0.124251     0.115482     0.094123  \n",
       "min       0.000000     0.000000     0.000000     0.000000  \n",
       "25%       0.000000     0.000000     0.000000     0.000000  \n",
       "50%       0.000000     0.000000     0.000000     0.000000  \n",
       "75%       0.000000     0.000000     0.000000     0.000000  \n",
       "max       1.000000     1.000000     1.000000     1.000000  \n",
       "\n",
       "[8 rows x 24 columns]"
      ]
     },
     "execution_count": 106,
     "metadata": {},
     "output_type": "execute_result"
    }
   ],
   "source": [
    "#Normalization to handle unbalanced features \n",
    "x = (x_data - np.min(x_data))/(np.max(x_data) - np.min(x_data)).values\n",
    "x.describe()"
   ]
  },
  {
   "cell_type": "markdown",
   "metadata": {},
   "source": [
    "Splitting the data"
   ]
  },
  {
   "cell_type": "code",
   "execution_count": 107,
   "metadata": {},
   "outputs": [],
   "source": [
    "# Split the data into training and test set. We use 20% test data with a random state of 42 \n",
    "x_train, x_test, y_train, y_test = train_test_split(x, y, test_size= 0.3, random_state=42)"
   ]
  },
  {
   "cell_type": "markdown",
   "metadata": {},
   "source": [
    "# Logistic Regression Classification Approach"
   ]
  },
  {
   "cell_type": "markdown",
   "metadata": {},
   "source": [
    "Create a model and fit it\n"
   ]
  },
  {
   "cell_type": "code",
   "execution_count": 108,
   "metadata": {},
   "outputs": [],
   "source": [
    "model = LogisticRegression(max_iter=5251).fit(x_train, y_train)\n"
   ]
  },
  {
   "cell_type": "markdown",
   "metadata": {},
   "source": [
    "Get results"
   ]
  },
  {
   "cell_type": "code",
   "execution_count": 109,
   "metadata": {},
   "outputs": [
    {
     "name": "stdout",
     "output_type": "stream",
     "text": [
      "Test accuracy: 0.7036059806508356\n",
      "intercept: [-1.046216]\n",
      "slope: [[ 0.02712065  1.38529693  0.57640718 -0.42472863 -0.36742951  0.66986724\n",
      "  -0.2897298  -0.66819778 -0.20476781  0.11979916  0.00830456  0.85101865\n",
      "  -0.09390079  0.27517146 -0.15509485 -0.89766742  0.28639098  0.76406895\n",
      "  -1.05238405  0.66185054 -0.21029523  0.87695995 -2.00956763  1.40840782]]\n"
     ]
    }
   ],
   "source": [
    "# Attributes of the model\n",
    "lr_score = model.score(x_train,y_train)\n",
    "print(f\"Test accuracy: {lr_score}\")\n",
    "print(f\"intercept: {model.intercept_}\")     #value of y when x = 0\n",
    "print(f\"slope: {model.coef_}\")              #gradient of slope"
   ]
  },
  {
   "cell_type": "markdown",
   "metadata": {},
   "source": [
    "Predict responses"
   ]
  },
  {
   "cell_type": "code",
   "execution_count": 110,
   "metadata": {},
   "outputs": [
    {
     "name": "stdout",
     "output_type": "stream",
     "text": [
      "predicted response:\n",
      "[0 0 0 ... 0 0 1] \n",
      "[1, 1, 0, 0, 0, ..., 0, 0, 0, 0, 1]\n",
      "Length: 3411\n",
      "Categories (2, int64): [0, 1]\n"
     ]
    }
   ],
   "source": [
    "y_pred = model.predict(x_train)\n",
    "print(f\"predicted response:\\n{y_pred} \\n{y_train}\")"
   ]
  },
  {
   "cell_type": "code",
   "execution_count": 111,
   "metadata": {},
   "outputs": [
    {
     "name": "stderr",
     "output_type": "stream",
     "text": [
      "*c* argument looks like a single numeric RGB or RGBA sequence, which should be avoided as value-mapping will have precedence in case its length matches with *x* & *y*.  Please use the *color* keyword-argument or provide a 2D array with a single row if you intend to specify the same RGB or RGBA value for all points.\n"
     ]
    },
    {
     "data": {
      "image/png": "[encoded data removed]",
      "text/plain": [
       "<Figure size 432x288 with 1 Axes>"
      ]
     },
     "metadata": {},
     "output_type": "display_data"
    },
    {
     "data": {
      "image/png": "[encoded data removed]",
      "text/plain": [
       "<Figure size 432x288 with 1 Axes>"
      ]
     },
     "metadata": {},
     "output_type": "display_data"
    }
   ],
   "source": [
    "y_compare = pd.DataFrame({\"y\":list(y_train),\"y_pred\":list(y_pred)}, index = range(0,len(y_train)))\n",
    "y_compare[\"count\"]=range(0,len(y_train))\n",
    "y_compare\n",
    "\n",
    "y_compare.plot(kind = \"scatter\", x=\"count\",y=\"y\", color='g')\n",
    "y_compare.plot(kind = \"scatter\", x=\"count\",y=\"y_pred\")\n",
    "plt.show()"
   ]
  },
  {
   "cell_type": "markdown",
   "metadata": {},
   "source": [
    "Evaluating the logistic regression "
   ]
  },
  {
   "cell_type": "code",
   "execution_count": 112,
   "metadata": {},
   "outputs": [
    {
     "data": {
      "image/png": "[encoded data removed]",
      "text/plain": [
       "<Figure size 360x360 with 2 Axes>"
      ]
     },
     "metadata": {},
     "output_type": "display_data"
    }
   ],
   "source": [
    "from sklearn.metrics import confusion_matrix\n",
    "\n",
    "y_prediction = model.predict(x_test)\n",
    "y_actual = y_test\n",
    "cm = confusion_matrix(y_actual, y_prediction)\n",
    "\n",
    "# heatmap visulization of confusion matrix\n",
    "f, ax = plt.subplots(figsize =(5, 5))\n",
    "sns.heatmap(cm, annot = True, linewidth=1, linecolor=\"green\", fmt =\".0f\", ax=ax)\n",
    "plt.xlabel(\"y_prediction\")\n",
    "plt.ylabel(\"y_actual\")\n",
    "plt.show()     "
   ]
  },
  {
   "cell_type": "markdown",
   "metadata": {},
   "source": [
    "# KNN Classification Approach\n"
   ]
  },
  {
   "cell_type": "code",
   "execution_count": 113,
   "metadata": {},
   "outputs": [
    {
     "name": "stdout",
     "output_type": "stream",
     "text": [
      "1 nn score: 0.9835841313269493\n"
     ]
    }
   ],
   "source": [
    "# import KNN classification model\n",
    "from sklearn.neighbors import KNeighborsClassifier\n",
    "k= 1\n",
    "knn = KNeighborsClassifier(n_neighbors=k)\n",
    "knn.fit(x_train, y_train)\n",
    "prediction = knn.predict(x_test)\n",
    "print(\"{} nn score: {}\".format(k, knn.score(x_test, y_test)))\n",
    "\n",
    "knn_score = knn.score(x_test, y_test)"
   ]
  },
  {
   "cell_type": "code",
   "execution_count": 114,
   "metadata": {},
   "outputs": [
    {
     "data": {
      "image/png": "[encoded data removed]",
      "text/plain": [
       "<Figure size 432x288 with 1 Axes>"
      ]
     },
     "metadata": {},
     "output_type": "display_data"
    }
   ],
   "source": [
    "# testing differnt vaues of k with accuracy to determine the most favorable\n",
    "# k ranges from 1-15\n",
    "score_list = []\n",
    "for each in range(1, 15):\n",
    "    knn2 = KNeighborsClassifier(n_neighbors= each)\n",
    "    knn2.fit(x_train, y_train)\n",
    "    score_list.append(knn2.score(x_test, y_test))\n",
    "    \n",
    "plt.plot(range(1, 15), score_list)\n",
    "plt.xlabel(\"kvalues\")\n",
    "plt.ylabel(\"accuracy\")\n",
    "plt.show()"
   ]
  },
  {
   "cell_type": "code",
   "execution_count": 115,
   "metadata": {},
   "outputs": [
    {
     "data": {
      "image/png": "[encoded data removed]",
      "text/plain": [
       "<Figure size 360x360 with 2 Axes>"
      ]
     },
     "metadata": {},
     "output_type": "display_data"
    }
   ],
   "source": [
    "#confusion matrix\n",
    "y_prediction = knn.predict(x_test)\n",
    "y_actual=y_test\n",
    "cm = confusion_matrix(y_actual, y_prediction)\n",
    "\n",
    "# Heatmap visualization of conusion matrix\n",
    "f, ax = plt.subplots(figsize = (5, 5))\n",
    "sns.heatmap(cm, annot =  True, linewidths=1, linecolor = \"green\", fmt = \".0f\", ax=ax)\n",
    "plt.xlabel(\"y_prediction\")\n",
    "plt.ylabel(\"y_actual\")\n",
    "plt.show()"
   ]
  },
  {
   "cell_type": "code",
   "execution_count": 116,
   "metadata": {},
   "outputs": [
    {
     "name": "stderr",
     "output_type": "stream",
     "text": [
      "*c* argument looks like a single numeric RGB or RGBA sequence, which should be avoided as value-mapping will have precedence in case its length matches with *x* & *y*.  Please use the *color* keyword-argument or provide a 2D array with a single row if you intend to specify the same RGB or RGBA value for all points.\n"
     ]
    },
    {
     "data": {
      "image/png": "[encoded data removed]",
      "text/plain": [
       "<Figure size 432x288 with 1 Axes>"
      ]
     },
     "metadata": {},
     "output_type": "display_data"
    },
    {
     "data": {
      "image/png": "[encoded data removed]",
      "text/plain": [
       "<Figure size 432x288 with 1 Axes>"
      ]
     },
     "metadata": {},
     "output_type": "display_data"
    }
   ],
   "source": [
    "y_compare = pd.DataFrame({\"y\":list(y_actual),\"y_pred\":list(y_prediction)}, index = range(0,len(y_actual)))\n",
    "y_compare[\"count\"]=range(0,len(y_actual))\n",
    "y_compare\n",
    "\n",
    "y_compare.plot(kind = \"scatter\", x=\"count\",y=\"y\", color='g')\n",
    "y_compare.plot(kind = \"scatter\", x=\"count\",y=\"y_pred\")\n",
    "plt.show()"
   ]
  },
  {
   "cell_type": "markdown",
   "metadata": {},
   "source": [
    "# Decision Tree Approach"
   ]
  },
  {
   "cell_type": "code",
   "execution_count": 117,
   "metadata": {},
   "outputs": [
    {
     "name": "stdout",
     "output_type": "stream",
     "text": [
      "score:  0.993844049247606\n"
     ]
    }
   ],
   "source": [
    "# Decision tree approach\n",
    "from sklearn.tree import DecisionTreeClassifier\n",
    "dt = DecisionTreeClassifier(random_state = 50)\n",
    "dt.fit(x_train, y_train)\n",
    "\n",
    "print(\"score: \", dt.score(x_test, y_test))\n",
    "\n",
    "dt_score = dt.score(x_test, y_test)"
   ]
  },
  {
   "cell_type": "code",
   "execution_count": 118,
   "metadata": {},
   "outputs": [
    {
     "data": {
      "image/png": "[encoded data removed]",
      "text/plain": [
       "<Figure size 360x360 with 2 Axes>"
      ]
     },
     "metadata": {},
     "output_type": "display_data"
    }
   ],
   "source": [
    "# confsion matrix\n",
    "y_prediction2 = dt.predict(x_test)\n",
    "y_actual2 = y_test\n",
    "cm = confusion_matrix(y_actual2, y_prediction2)\n",
    "\n",
    "# heatmap\n",
    "f, ax = plt.subplots(figsize = (5, 5))\n",
    "sns.heatmap(cm, annot = True, linewidths=1, linecolor=\"black\", fmt =\".0f\", ax=ax)\n",
    "plt.xlabel(\"y_prediction\")\n",
    "plt.ylabel(\"y_actual\")\n",
    "plt.show()"
   ]
  },
  {
   "cell_type": "code",
   "execution_count": 119,
   "metadata": {},
   "outputs": [
    {
     "name": "stderr",
     "output_type": "stream",
     "text": [
      "*c* argument looks like a single numeric RGB or RGBA sequence, which should be avoided as value-mapping will have precedence in case its length matches with *x* & *y*.  Please use the *color* keyword-argument or provide a 2D array with a single row if you intend to specify the same RGB or RGBA value for all points.\n"
     ]
    },
    {
     "data": {
      "image/png": "[encoded data removed]",
      "text/plain": [
       "<Figure size 432x288 with 1 Axes>"
      ]
     },
     "metadata": {},
     "output_type": "display_data"
    },
    {
     "data": {
      "image/png": "[encoded data removed]",
      "text/plain": [
       "<Figure size 432x288 with 1 Axes>"
      ]
     },
     "metadata": {},
     "output_type": "display_data"
    }
   ],
   "source": [
    "y_compare = pd.DataFrame({\"y\":list(y_actual2),\"y_pred\":list(y_prediction2)}, index = range(0,len(y_actual2)))\n",
    "y_compare[\"count\"]=range(0,len(y_actual2))\n",
    "y_compare\n",
    "\n",
    "y_compare.plot(kind = \"scatter\", x=\"count\",y=\"y\", color='g')\n",
    "y_compare.plot(kind = \"scatter\", x=\"count\",y=\"y_pred\")\n",
    "plt.show()"
   ]
  },
  {
   "cell_type": "markdown",
   "metadata": {},
   "source": [
    "# Random Forest Classification"
   ]
  },
  {
   "cell_type": "code",
   "execution_count": 120,
   "metadata": {},
   "outputs": [
    {
     "name": "stdout",
     "output_type": "stream",
     "text": [
      "random forest model score:  0.9911080711354309\n"
     ]
    }
   ],
   "source": [
    "# random forest classification\n",
    "from sklearn.ensemble import RandomForestClassifier\n",
    "# set n_estimators to 100 whcih means the model will use 100 subsets\n",
    "rf = RandomForestClassifier(n_estimators = 100, random_state = 30)\n",
    "rf.fit(x_train, y_train)\n",
    "print(\"random forest model score: \", rf.score(x_test, y_test))\n",
    "rf_score= rf.score(x_test, y_test)"
   ]
  },
  {
   "cell_type": "code",
   "execution_count": 121,
   "metadata": {},
   "outputs": [
    {
     "data": {
      "image/png": "[encoded data removed]",
      "text/plain": [
       "<Figure size 360x360 with 2 Axes>"
      ]
     },
     "metadata": {},
     "output_type": "display_data"
    }
   ],
   "source": [
    "# confusion matrix\n",
    "y_prediction3 = rf.predict(x_test)\n",
    "y_actual3 = y_test\n",
    "cm = confusion_matrix(y_actual3, y_prediction3)\n",
    "\n",
    "# Heatmap\n",
    "f, ax = plt.subplots(figsize=(5,5))\n",
    "sns.heatmap(cm, annot = True, linewidths=0.5, linecolor = \"green\", fmt = \".0f\", ax=ax)\n",
    "plt.xlabel(\"y_prediction\")\n",
    "plt.ylabel(\"y_actual\")\n",
    "plt.show()"
   ]
  },
  {
   "cell_type": "code",
   "execution_count": 122,
   "metadata": {},
   "outputs": [
    {
     "name": "stderr",
     "output_type": "stream",
     "text": [
      "*c* argument looks like a single numeric RGB or RGBA sequence, which should be avoided as value-mapping will have precedence in case its length matches with *x* & *y*.  Please use the *color* keyword-argument or provide a 2D array with a single row if you intend to specify the same RGB or RGBA value for all points.\n"
     ]
    },
    {
     "data": {
      "image/png": "[encoded data removed]",
      "text/plain": [
       "<Figure size 432x288 with 1 Axes>"
      ]
     },
     "metadata": {},
     "output_type": "display_data"
    },
    {
     "data": {
      "image/png": "[encoded data removed]",
      "text/plain": [
       "<Figure size 432x288 with 1 Axes>"
      ]
     },
     "metadata": {},
     "output_type": "display_data"
    }
   ],
   "source": [
    "y_compare = pd.DataFrame({\"y\":list(y_actual3),\"y_pred\":list(y_prediction3)}, index = range(0,len(y_actual3)))\n",
    "y_compare[\"count\"]=range(0,len(y_actual3))\n",
    "y_compare\n",
    "\n",
    "y_compare.plot(kind = \"scatter\", x=\"count\",y=\"y\", color='g')\n",
    "y_compare.plot(kind = \"scatter\", x=\"count\",y=\"y_pred\")\n",
    "plt.show()"
   ]
  },
  {
   "cell_type": "markdown",
   "metadata": {},
   "source": [
    "# Support Vector Machine(SVM)"
   ]
  },
  {
   "cell_type": "code",
   "execution_count": 123,
   "metadata": {},
   "outputs": [
    {
     "name": "stdout",
     "output_type": "stream",
     "text": [
      "Accuracy of SVM:  0.7339261285909713\n"
     ]
    }
   ],
   "source": [
    "# SVM approach\n",
    "from sklearn.svm import SVC\n",
    "svm = SVC(random_state = 42)\n",
    "svm.fit(x_train, y_train)\n",
    "\n",
    "print(\"Accuracy of SVM: \", svm.score(x_test, y_test))\n",
    "\n",
    "svm_score = svm.score(x_test, y_test)"
   ]
  },
  {
   "cell_type": "code",
   "execution_count": 124,
   "metadata": {},
   "outputs": [
    {
     "data": {
      "image/png": "[encoded data removed]",
      "text/plain": [
       "<Figure size 360x360 with 2 Axes>"
      ]
     },
     "metadata": {},
     "output_type": "display_data"
    }
   ],
   "source": [
    "\n",
    "# Confusion matrix\n",
    "from turtle import color\n",
    "\n",
    "\n",
    "y_prediction4 = svm.predict(x_test)\n",
    "y_actual4 = y_test\n",
    "cm = confusion_matrix(y_actual4, y_prediction4)\n",
    "\n",
    "# Heatmap\n",
    "f, ax = plt.subplots(figsize=(5,5))\n",
    "sns.heatmap(cm, annot = True, linewidths=0.5, linecolor = \"green\", fmt = \".0f\", ax=ax)\n",
    "plt.xlabel(\"y_prediction\")\n",
    "plt.ylabel(\"y_actual\")\n",
    "plt.show()"
   ]
  },
  {
   "cell_type": "code",
   "execution_count": 125,
   "metadata": {},
   "outputs": [
    {
     "name": "stderr",
     "output_type": "stream",
     "text": [
      "*c* argument looks like a single numeric RGB or RGBA sequence, which should be avoided as value-mapping will have precedence in case its length matches with *x* & *y*.  Please use the *color* keyword-argument or provide a 2D array with a single row if you intend to specify the same RGB or RGBA value for all points.\n"
     ]
    },
    {
     "data": {
      "image/png": "[encoded data removed]",
      "text/plain": [
       "<Figure size 432x288 with 1 Axes>"
      ]
     },
     "metadata": {},
     "output_type": "display_data"
    },
    {
     "data": {
      "image/png": "[encoded data removed]",
      "text/plain": [
       "<Figure size 432x288 with 1 Axes>"
      ]
     },
     "metadata": {},
     "output_type": "display_data"
    }
   ],
   "source": [
    "y_compare = pd.DataFrame({\"y\":list(y_actual4),\"y_pred\":list(y_prediction4)}, index = range(0,len(y_actual4)))\n",
    "y_compare[\"count\"]=range(0,len(y_actual4))\n",
    "y_compare\n",
    "\n",
    "y_compare.plot(kind = \"scatter\", x=\"count\",y=\"y\", color='g')\n",
    "y_compare.plot(kind = \"scatter\", x=\"count\",y=\"y_pred\")\n",
    "plt.show()"
   ]
  },
  {
   "cell_type": "markdown",
   "metadata": {},
   "source": [
    "# Naive Bayes Classification"
   ]
  },
  {
   "cell_type": "code",
   "execution_count": 126,
   "metadata": {},
   "outputs": [
    {
     "name": "stdout",
     "output_type": "stream",
     "text": [
      "accuracy of naive bayes:  0.6484268125854993\n"
     ]
    }
   ],
   "source": [
    "# Naive Bayes\n",
    "from sklearn.naive_bayes import GaussianNB\n",
    "nb = GaussianNB()\n",
    "nb.fit(x_train, y_train)\n",
    "\n",
    "print(\"accuracy of naive bayes: \", nb.score(x_test, y_test))\n",
    "\n",
    "nb_score = nb.score(x_test, y_test)"
   ]
  },
  {
   "cell_type": "code",
   "execution_count": 127,
   "metadata": {},
   "outputs": [
    {
     "data": {
      "image/png": "[encoded data removed]",
      "text/plain": [
       "<Figure size 360x360 with 2 Axes>"
      ]
     },
     "metadata": {},
     "output_type": "display_data"
    }
   ],
   "source": [
    "# Confusion matrix\n",
    "y_prediction5 = nb.predict(x_test)\n",
    "y_actual5 = y_test\n",
    "cm = confusion_matrix(y_actual5, y_prediction5)\n",
    "\n",
    "# heatmap\n",
    "f, ax = plt.subplots(figsize=(5,5))\n",
    "sns.heatmap(cm, annot = True, linewidths=0.5, linecolor = \"green\", fmt = \".0f\", ax=ax)\n",
    "plt.xlabel(\"y_prediction\")\n",
    "plt.ylabel(\"y_actual\")\n",
    "plt.show()"
   ]
  },
  {
   "cell_type": "code",
   "execution_count": 128,
   "metadata": {},
   "outputs": [
    {
     "name": "stderr",
     "output_type": "stream",
     "text": [
      "*c* argument looks like a single numeric RGB or RGBA sequence, which should be avoided as value-mapping will have precedence in case its length matches with *x* & *y*.  Please use the *color* keyword-argument or provide a 2D array with a single row if you intend to specify the same RGB or RGBA value for all points.\n"
     ]
    },
    {
     "data": {
      "image/png": "[encoded data removed]",
      "text/plain": [
       "<Figure size 432x288 with 1 Axes>"
      ]
     },
     "metadata": {},
     "output_type": "display_data"
    },
    {
     "data": {
      "image/png": "[encoded data removed]",
      "text/plain": [
       "<Figure size 432x288 with 1 Axes>"
      ]
     },
     "metadata": {},
     "output_type": "display_data"
    }
   ],
   "source": [
    "y_compare = pd.DataFrame({\"y\":list(y_actual5),\"y_pred\":list(y_prediction5)}, index = range(0,len(y_actual5)))\n",
    "y_compare[\"count\"]=range(0,len(y_actual5))\n",
    "y_compare\n",
    "\n",
    "y_compare.plot(kind = \"scatter\", x=\"count\",y=\"y\", color='g')\n",
    "y_compare.plot(kind = \"scatter\", x=\"count\",y=\"y_pred\")\n",
    "plt.show()"
   ]
  },
  {
   "cell_type": "markdown",
   "metadata": {},
   "source": [
    "# Comparision Using Confusion matrix"
   ]
  },
  {
   "cell_type": "code",
   "execution_count": 129,
   "metadata": {},
   "outputs": [
    {
     "data": {
      "image/png": "[encoded data removed]",
      "text/plain": [
       "<Figure size 1296x864 with 1 Axes>"
      ]
     },
     "metadata": {},
     "output_type": "display_data"
    }
   ],
   "source": [
    "\n",
    "class_name = (\"Logistic Regression\", \"KNN\", \"Decision Tree\", \"Random Forest\", \"SVM\", \"Naive bayes\")\n",
    "class_score = (lr_score, knn_score, dt_score, rf_score, svm_score, nb_score)\n",
    "y_pos = np.arange(len(class_score))\n",
    "colors = (\"red\", \"green\", \"black\",\"green\", \"red\",\"red\")\n",
    "plt.figure(figsize=(18, 12))\n",
    "plt.bar(y_pos, class_score, color=colors)\n",
    "plt.xticks(y_pos, class_name, fontsize=20)\n",
    "plt.yticks(np.arange(0.00, 1.05, step = 0.05))\n",
    "plt.ylabel(\"Accuracy\")\n",
    "\n",
    "plt.title(\"Confusion Matrix Comparision of Classifiers\", fontsize=14)\n",
    "plt.savefig(\"graph.png\")\n",
    "plt.show()"
   ]
  },
  {
   "cell_type": "code",
   "execution_count": 130,
   "metadata": {},
   "outputs": [
    {
     "data": {
      "text/plain": [
       "0"
      ]
     },
     "execution_count": 130,
     "metadata": {},
     "output_type": "execute_result"
    }
   ],
   "source": [
    "dg.duplicated(subset=['loan_id']).sum()"
   ]
  }
 ],
 "metadata": {
  "kernelspec": {
   "display_name": "Python 3.10.6 64-bit (windows store)",
   "language": "python",
   "name": "python3"
  },
  "language_info": {
   "codemirror_mode": {
    "name": "ipython",
    "version": 3
   },
   "file_extension": ".py",
   "mimetype": "text/x-python",
   "name": "python",
   "nbconvert_exporter": "python",
   "pygments_lexer": "ipython3",
   "version": "3.10.7"
  },
  "orig_nbformat": 4,
  "vscode": {
   "interpreter": {
    "hash": "1ba8ddd67eb72f666e9ed24e7ce7d0418c15b0cfb7e00f500f6fe4ad37231218"
   }
  }
 },
 "nbformat": 4,
 "nbformat_minor": 2
}
