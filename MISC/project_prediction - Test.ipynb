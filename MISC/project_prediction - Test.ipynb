{
 "cells": [
  {
   "cell_type": "markdown",
   "metadata": {},
   "source": [
    "import packages"
   ]
  },
  {
   "cell_type": "code",
   "execution_count": 148,
   "metadata": {},
   "outputs": [],
   "source": [
    "import numpy as np\n",
    "import pandas as pd\n",
    "import matplotlib.pyplot as plt\n",
    "from sklearn.linear_model import LinearRegression\n",
    "from sklearn.preprocessing import PolynomialFeatures"
   ]
  },
  {
   "cell_type": "markdown",
   "metadata": {},
   "source": [
    "Provide data\n",
    "Training data = 67.5% 3373\n",
    "Test data = 32.5% 1500"
   ]
  },
  {
   "cell_type": "code",
   "execution_count": 111,
   "metadata": {},
   "outputs": [
    {
     "data": {
      "text/html": [
       "<div>\n",
       "<style scoped>\n",
       "    .dataframe tbody tr th:only-of-type {\n",
       "        vertical-align: middle;\n",
       "    }\n",
       "\n",
       "    .dataframe tbody tr th {\n",
       "        vertical-align: top;\n",
       "    }\n",
       "\n",
       "    .dataframe thead th {\n",
       "        text-align: right;\n",
       "    }\n",
       "</style>\n",
       "<table border=\"1\" class=\"dataframe\">\n",
       "  <thead>\n",
       "    <tr style=\"text-align: right;\">\n",
       "      <th></th>\n",
       "      <th>loan_id</th>\n",
       "      <th>monthly_income</th>\n",
       "      <th>origination_score_band</th>\n",
       "      <th>TOB_months</th>\n",
       "      <th>closing_principal_balance</th>\n",
       "      <th>original_loan_amount</th>\n",
       "      <th>original_loan_term</th>\n",
       "      <th>remaining_loan_term</th>\n",
       "      <th>target</th>\n",
       "    </tr>\n",
       "  </thead>\n",
       "  <tbody>\n",
       "    <tr>\n",
       "      <th>count</th>\n",
       "      <td>4873.000000</td>\n",
       "      <td>4873.000000</td>\n",
       "      <td>4873.000000</td>\n",
       "      <td>4873.000000</td>\n",
       "      <td>4873.000000</td>\n",
       "      <td>4873.000000</td>\n",
       "      <td>4873.000000</td>\n",
       "      <td>4873.000000</td>\n",
       "      <td>4873.000000</td>\n",
       "    </tr>\n",
       "    <tr>\n",
       "      <th>mean</th>\n",
       "      <td>3616.828032</td>\n",
       "      <td>14414.836856</td>\n",
       "      <td>3.898215</td>\n",
       "      <td>28.397086</td>\n",
       "      <td>5764.565976</td>\n",
       "      <td>6685.485327</td>\n",
       "      <td>62.114098</td>\n",
       "      <td>39.628360</td>\n",
       "      <td>0.299610</td>\n",
       "    </tr>\n",
       "    <tr>\n",
       "      <th>std</th>\n",
       "      <td>1518.849542</td>\n",
       "      <td>13946.848379</td>\n",
       "      <td>1.492559</td>\n",
       "      <td>16.419510</td>\n",
       "      <td>7958.981479</td>\n",
       "      <td>8612.775117</td>\n",
       "      <td>23.823088</td>\n",
       "      <td>25.101886</td>\n",
       "      <td>0.458134</td>\n",
       "    </tr>\n",
       "    <tr>\n",
       "      <th>min</th>\n",
       "      <td>1000.000000</td>\n",
       "      <td>750.000000</td>\n",
       "      <td>1.000000</td>\n",
       "      <td>6.000000</td>\n",
       "      <td>100.000000</td>\n",
       "      <td>100.000000</td>\n",
       "      <td>12.000000</td>\n",
       "      <td>0.000000</td>\n",
       "      <td>0.000000</td>\n",
       "    </tr>\n",
       "    <tr>\n",
       "      <th>25%</th>\n",
       "      <td>2300.000000</td>\n",
       "      <td>6000.000000</td>\n",
       "      <td>3.000000</td>\n",
       "      <td>16.000000</td>\n",
       "      <td>1380.000000</td>\n",
       "      <td>1800.000000</td>\n",
       "      <td>60.000000</td>\n",
       "      <td>23.000000</td>\n",
       "      <td>0.000000</td>\n",
       "    </tr>\n",
       "    <tr>\n",
       "      <th>50%</th>\n",
       "      <td>3604.000000</td>\n",
       "      <td>9750.000000</td>\n",
       "      <td>4.000000</td>\n",
       "      <td>24.000000</td>\n",
       "      <td>3220.000000</td>\n",
       "      <td>3800.000000</td>\n",
       "      <td>60.000000</td>\n",
       "      <td>40.000000</td>\n",
       "      <td>0.000000</td>\n",
       "    </tr>\n",
       "    <tr>\n",
       "      <th>75%</th>\n",
       "      <td>4933.000000</td>\n",
       "      <td>18000.000000</td>\n",
       "      <td>5.000000</td>\n",
       "      <td>38.000000</td>\n",
       "      <td>6800.000000</td>\n",
       "      <td>8100.000000</td>\n",
       "      <td>60.000000</td>\n",
       "      <td>51.000000</td>\n",
       "      <td>1.000000</td>\n",
       "    </tr>\n",
       "    <tr>\n",
       "      <th>max</th>\n",
       "      <td>6249.000000</td>\n",
       "      <td>99750.000000</td>\n",
       "      <td>8.000000</td>\n",
       "      <td>83.000000</td>\n",
       "      <td>88200.000000</td>\n",
       "      <td>90000.000000</td>\n",
       "      <td>192.000000</td>\n",
       "      <td>177.000000</td>\n",
       "      <td>1.000000</td>\n",
       "    </tr>\n",
       "  </tbody>\n",
       "</table>\n",
       "</div>"
      ],
      "text/plain": [
       "           loan_id  monthly_income  origination_score_band   TOB_months  \\\n",
       "count  4873.000000     4873.000000             4873.000000  4873.000000   \n",
       "mean   3616.828032    14414.836856                3.898215    28.397086   \n",
       "std    1518.849542    13946.848379                1.492559    16.419510   \n",
       "min    1000.000000      750.000000                1.000000     6.000000   \n",
       "25%    2300.000000     6000.000000                3.000000    16.000000   \n",
       "50%    3604.000000     9750.000000                4.000000    24.000000   \n",
       "75%    4933.000000    18000.000000                5.000000    38.000000   \n",
       "max    6249.000000    99750.000000                8.000000    83.000000   \n",
       "\n",
       "       closing_principal_balance  original_loan_amount  original_loan_term  \\\n",
       "count                4873.000000           4873.000000         4873.000000   \n",
       "mean                 5764.565976           6685.485327           62.114098   \n",
       "std                  7958.981479           8612.775117           23.823088   \n",
       "min                   100.000000            100.000000           12.000000   \n",
       "25%                  1380.000000           1800.000000           60.000000   \n",
       "50%                  3220.000000           3800.000000           60.000000   \n",
       "75%                  6800.000000           8100.000000           60.000000   \n",
       "max                 88200.000000          90000.000000          192.000000   \n",
       "\n",
       "       remaining_loan_term       target  \n",
       "count          4873.000000  4873.000000  \n",
       "mean             39.628360     0.299610  \n",
       "std              25.101886     0.458134  \n",
       "min               0.000000     0.000000  \n",
       "25%              23.000000     0.000000  \n",
       "50%              40.000000     0.000000  \n",
       "75%              51.000000     1.000000  \n",
       "max             177.000000     1.000000  "
      ]
     },
     "execution_count": 111,
     "metadata": {},
     "output_type": "execute_result"
    }
   ],
   "source": [
    "from project_data_preparation import dg;\n",
    "\n",
    "dg.describe()\n",
    "# dg"
   ]
  },
  {
   "cell_type": "code",
   "execution_count": 112,
   "metadata": {},
   "outputs": [
    {
     "data": {
      "text/plain": [
       "array([0, 0, 0, ..., 0, 0, 0], dtype=int64)"
      ]
     },
     "execution_count": 112,
     "metadata": {},
     "output_type": "execute_result"
    }
   ],
   "source": [
    "y = dg['target'].loc[:3372]\n",
    "y = np.array(y)\n",
    "y"
   ]
  },
  {
   "cell_type": "code",
   "execution_count": 113,
   "metadata": {},
   "outputs": [
    {
     "data": {
      "text/html": [
       "<div>\n",
       "<style scoped>\n",
       "    .dataframe tbody tr th:only-of-type {\n",
       "        vertical-align: middle;\n",
       "    }\n",
       "\n",
       "    .dataframe tbody tr th {\n",
       "        vertical-align: top;\n",
       "    }\n",
       "\n",
       "    .dataframe thead th {\n",
       "        text-align: right;\n",
       "    }\n",
       "</style>\n",
       "<table border=\"1\" class=\"dataframe\">\n",
       "  <thead>\n",
       "    <tr style=\"text-align: right;\">\n",
       "      <th></th>\n",
       "      <th>monthly_income</th>\n",
       "      <th>origination_score_band</th>\n",
       "      <th>TOB_months</th>\n",
       "      <th>closing_principal_balance</th>\n",
       "      <th>original_loan_amount</th>\n",
       "      <th>original_loan_term</th>\n",
       "      <th>remaining_loan_term</th>\n",
       "    </tr>\n",
       "  </thead>\n",
       "  <tbody>\n",
       "    <tr>\n",
       "      <th>0</th>\n",
       "      <td>6000.0</td>\n",
       "      <td>5</td>\n",
       "      <td>83.0</td>\n",
       "      <td>300.0</td>\n",
       "      <td>1800.0</td>\n",
       "      <td>24</td>\n",
       "      <td>5</td>\n",
       "    </tr>\n",
       "    <tr>\n",
       "      <th>1</th>\n",
       "      <td>39000.0</td>\n",
       "      <td>5</td>\n",
       "      <td>82.0</td>\n",
       "      <td>7200.0</td>\n",
       "      <td>11700.0</td>\n",
       "      <td>60</td>\n",
       "      <td>42</td>\n",
       "    </tr>\n",
       "    <tr>\n",
       "      <th>2</th>\n",
       "      <td>18000.0</td>\n",
       "      <td>5</td>\n",
       "      <td>78.0</td>\n",
       "      <td>2700.0</td>\n",
       "      <td>5400.0</td>\n",
       "      <td>60</td>\n",
       "      <td>46</td>\n",
       "    </tr>\n",
       "    <tr>\n",
       "      <th>3</th>\n",
       "      <td>23250.0</td>\n",
       "      <td>3</td>\n",
       "      <td>76.0</td>\n",
       "      <td>3900.0</td>\n",
       "      <td>6900.0</td>\n",
       "      <td>60</td>\n",
       "      <td>48</td>\n",
       "    </tr>\n",
       "    <tr>\n",
       "      <th>4</th>\n",
       "      <td>12000.0</td>\n",
       "      <td>3</td>\n",
       "      <td>74.0</td>\n",
       "      <td>2100.0</td>\n",
       "      <td>3600.0</td>\n",
       "      <td>60</td>\n",
       "      <td>50</td>\n",
       "    </tr>\n",
       "    <tr>\n",
       "      <th>...</th>\n",
       "      <td>...</td>\n",
       "      <td>...</td>\n",
       "      <td>...</td>\n",
       "      <td>...</td>\n",
       "      <td>...</td>\n",
       "      <td>...</td>\n",
       "      <td>...</td>\n",
       "    </tr>\n",
       "    <tr>\n",
       "      <th>3368</th>\n",
       "      <td>6000.0</td>\n",
       "      <td>6</td>\n",
       "      <td>14.0</td>\n",
       "      <td>1500.0</td>\n",
       "      <td>1500.0</td>\n",
       "      <td>66</td>\n",
       "      <td>57</td>\n",
       "    </tr>\n",
       "    <tr>\n",
       "      <th>3369</th>\n",
       "      <td>6000.0</td>\n",
       "      <td>2</td>\n",
       "      <td>15.0</td>\n",
       "      <td>1500.0</td>\n",
       "      <td>1500.0</td>\n",
       "      <td>66</td>\n",
       "      <td>55</td>\n",
       "    </tr>\n",
       "    <tr>\n",
       "      <th>3370</th>\n",
       "      <td>750.0</td>\n",
       "      <td>5</td>\n",
       "      <td>15.0</td>\n",
       "      <td>250.0</td>\n",
       "      <td>250.0</td>\n",
       "      <td>39</td>\n",
       "      <td>29</td>\n",
       "    </tr>\n",
       "    <tr>\n",
       "      <th>3371</th>\n",
       "      <td>39750.0</td>\n",
       "      <td>4</td>\n",
       "      <td>11.0</td>\n",
       "      <td>10000.0</td>\n",
       "      <td>10000.0</td>\n",
       "      <td>63</td>\n",
       "      <td>56</td>\n",
       "    </tr>\n",
       "    <tr>\n",
       "      <th>3372</th>\n",
       "      <td>5250.0</td>\n",
       "      <td>3</td>\n",
       "      <td>14.0</td>\n",
       "      <td>1000.0</td>\n",
       "      <td>1250.0</td>\n",
       "      <td>60</td>\n",
       "      <td>51</td>\n",
       "    </tr>\n",
       "  </tbody>\n",
       "</table>\n",
       "<p>3373 rows × 7 columns</p>\n",
       "</div>"
      ],
      "text/plain": [
       "      monthly_income  origination_score_band  TOB_months  \\\n",
       "0             6000.0                       5        83.0   \n",
       "1            39000.0                       5        82.0   \n",
       "2            18000.0                       5        78.0   \n",
       "3            23250.0                       3        76.0   \n",
       "4            12000.0                       3        74.0   \n",
       "...              ...                     ...         ...   \n",
       "3368          6000.0                       6        14.0   \n",
       "3369          6000.0                       2        15.0   \n",
       "3370           750.0                       5        15.0   \n",
       "3371         39750.0                       4        11.0   \n",
       "3372          5250.0                       3        14.0   \n",
       "\n",
       "      closing_principal_balance  original_loan_amount  original_loan_term  \\\n",
       "0                         300.0                1800.0                  24   \n",
       "1                        7200.0               11700.0                  60   \n",
       "2                        2700.0                5400.0                  60   \n",
       "3                        3900.0                6900.0                  60   \n",
       "4                        2100.0                3600.0                  60   \n",
       "...                         ...                   ...                 ...   \n",
       "3368                     1500.0                1500.0                  66   \n",
       "3369                     1500.0                1500.0                  66   \n",
       "3370                      250.0                 250.0                  39   \n",
       "3371                    10000.0               10000.0                  63   \n",
       "3372                     1000.0                1250.0                  60   \n",
       "\n",
       "      remaining_loan_term  \n",
       "0                       5  \n",
       "1                      42  \n",
       "2                      46  \n",
       "3                      48  \n",
       "4                      50  \n",
       "...                   ...  \n",
       "3368                   57  \n",
       "3369                   55  \n",
       "3370                   29  \n",
       "3371                   56  \n",
       "3372                   51  \n",
       "\n",
       "[3373 rows x 7 columns]"
      ]
     },
     "execution_count": 113,
     "metadata": {},
     "output_type": "execute_result"
    }
   ],
   "source": [
    "x = dg[[\"monthly_income\",\"origination_score_band\",\"TOB_months\",\"closing_principal_balance\",\"original_loan_amount\",\"original_loan_term\",\"remaining_loan_term\"]].loc[:3372]\n",
    "x\n",
    "\n"
   ]
  },
  {
   "cell_type": "code",
   "execution_count": 114,
   "metadata": {},
   "outputs": [
    {
     "data": {
      "text/plain": [
       "array([[6.000e+03, 5.000e+00, 8.300e+01, ..., 1.800e+03, 2.400e+01,\n",
       "        5.000e+00],\n",
       "       [3.900e+04, 5.000e+00, 8.200e+01, ..., 1.170e+04, 6.000e+01,\n",
       "        4.200e+01],\n",
       "       [1.800e+04, 5.000e+00, 7.800e+01, ..., 5.400e+03, 6.000e+01,\n",
       "        4.600e+01],\n",
       "       ...,\n",
       "       [7.500e+02, 5.000e+00, 1.500e+01, ..., 2.500e+02, 3.900e+01,\n",
       "        2.900e+01],\n",
       "       [3.975e+04, 4.000e+00, 1.100e+01, ..., 1.000e+04, 6.300e+01,\n",
       "        5.600e+01],\n",
       "       [5.250e+03, 3.000e+00, 1.400e+01, ..., 1.250e+03, 6.000e+01,\n",
       "        5.100e+01]])"
      ]
     },
     "execution_count": 114,
     "metadata": {},
     "output_type": "execute_result"
    }
   ],
   "source": [
    "x = np.array(x)\n",
    "# x.shape\n",
    "x\n"
   ]
  },
  {
   "cell_type": "markdown",
   "metadata": {},
   "source": [
    "Transform input data"
   ]
  },
  {
   "cell_type": "code",
   "execution_count": 137,
   "metadata": {},
   "outputs": [
    {
     "data": {
      "text/plain": [
       "array([[6.00000000e+03, 5.00000000e+00, 8.30000000e+01, ...,\n",
       "        2.25000000e+08, 4.68750000e+07, 9.76562500e+06],\n",
       "       [3.90000000e+04, 5.00000000e+00, 8.20000000e+01, ...,\n",
       "        3.48575472e+16, 2.44002830e+16, 1.70801981e+16],\n",
       "       [1.80000000e+04, 5.00000000e+00, 7.80000000e+01, ...,\n",
       "        7.21714040e+16, 5.53314098e+16, 4.24207475e+16],\n",
       "       ...,\n",
       "       [7.50000000e+02, 5.00000000e+00, 1.50000000e+01, ...,\n",
       "        7.60874794e+14, 5.65778693e+14, 4.20707233e+14],\n",
       "       [3.97500000e+04, 4.00000000e+00, 1.10000000e+01, ...,\n",
       "        3.83871010e+17, 3.41218675e+17, 3.03305489e+17],\n",
       "       [5.25000000e+03, 3.00000000e+00, 1.40000000e+01, ...,\n",
       "        1.64764600e+17, 1.40049910e+17, 1.19042424e+17]])"
      ]
     },
     "execution_count": 137,
     "metadata": {},
     "output_type": "execute_result"
    }
   ],
   "source": [
    "x_ = PolynomialFeatures(degree=10, include_bias=False).fit_transform(x)\n",
    "x_"
   ]
  },
  {
   "cell_type": "markdown",
   "metadata": {},
   "source": [
    "Create model and fit it"
   ]
  },
  {
   "cell_type": "code",
   "execution_count": 138,
   "metadata": {},
   "outputs": [],
   "source": [
    "model = LinearRegression().fit(x_, y)"
   ]
  },
  {
   "cell_type": "markdown",
   "metadata": {},
   "source": [
    "Get results"
   ]
  },
  {
   "cell_type": "code",
   "execution_count": 136,
   "metadata": {},
   "outputs": [
    {
     "name": "stdout",
     "output_type": "stream",
     "text": [
      "coefficient of determination: 0.21925544606903902\n",
      "intercept: 0.31654083731265287\n",
      "coefficients: [-4.07109179e-17  1.61985096e-16  1.00830092e-16 ...  1.16914214e-19\n",
      "  1.38475755e-19  1.60530211e-19]\n"
     ]
    }
   ],
   "source": [
    "r_sq = model.score(x_, y)\n",
    "intercept, coefficients = model.intercept_, model.coef_\n",
    "print(f\"coefficient of determination: {r_sq}\")\n",
    "print(f\"intercept: {model.intercept_}\")\n",
    "print(f\"coefficients: {model.coef_}\")\n"
   ]
  },
  {
   "cell_type": "code",
   "execution_count": 166,
   "metadata": {},
   "outputs": [
    {
     "name": "stdout",
     "output_type": "stream",
     "text": [
      "[0.29964976 0.20313089 0.17594562 ... 0.29953339 0.80745248 0.29953754]\n",
      "[0 0 0 ... 0 0 0]\n"
     ]
    },
    {
     "data": {
      "text/html": [
       "<div>\n",
       "<style scoped>\n",
       "    .dataframe tbody tr th:only-of-type {\n",
       "        vertical-align: middle;\n",
       "    }\n",
       "\n",
       "    .dataframe tbody tr th {\n",
       "        vertical-align: top;\n",
       "    }\n",
       "\n",
       "    .dataframe thead th {\n",
       "        text-align: right;\n",
       "    }\n",
       "</style>\n",
       "<table border=\"1\" class=\"dataframe\">\n",
       "  <thead>\n",
       "    <tr style=\"text-align: right;\">\n",
       "      <th></th>\n",
       "      <th>y</th>\n",
       "      <th>y_pred</th>\n",
       "      <th>count</th>\n",
       "    </tr>\n",
       "  </thead>\n",
       "  <tbody>\n",
       "    <tr>\n",
       "      <th>0</th>\n",
       "      <td>0</td>\n",
       "      <td>0.299650</td>\n",
       "      <td>0</td>\n",
       "    </tr>\n",
       "    <tr>\n",
       "      <th>1</th>\n",
       "      <td>0</td>\n",
       "      <td>0.203131</td>\n",
       "      <td>1</td>\n",
       "    </tr>\n",
       "    <tr>\n",
       "      <th>2</th>\n",
       "      <td>0</td>\n",
       "      <td>0.175946</td>\n",
       "      <td>2</td>\n",
       "    </tr>\n",
       "    <tr>\n",
       "      <th>3</th>\n",
       "      <td>1</td>\n",
       "      <td>1.172509</td>\n",
       "      <td>3</td>\n",
       "    </tr>\n",
       "    <tr>\n",
       "      <th>4</th>\n",
       "      <td>0</td>\n",
       "      <td>0.300228</td>\n",
       "      <td>4</td>\n",
       "    </tr>\n",
       "    <tr>\n",
       "      <th>...</th>\n",
       "      <td>...</td>\n",
       "      <td>...</td>\n",
       "      <td>...</td>\n",
       "    </tr>\n",
       "    <tr>\n",
       "      <th>3368</th>\n",
       "      <td>1</td>\n",
       "      <td>0.299545</td>\n",
       "      <td>3368</td>\n",
       "    </tr>\n",
       "    <tr>\n",
       "      <th>3369</th>\n",
       "      <td>0</td>\n",
       "      <td>0.299540</td>\n",
       "      <td>3369</td>\n",
       "    </tr>\n",
       "    <tr>\n",
       "      <th>3370</th>\n",
       "      <td>0</td>\n",
       "      <td>0.299533</td>\n",
       "      <td>3370</td>\n",
       "    </tr>\n",
       "    <tr>\n",
       "      <th>3371</th>\n",
       "      <td>0</td>\n",
       "      <td>0.807452</td>\n",
       "      <td>3371</td>\n",
       "    </tr>\n",
       "    <tr>\n",
       "      <th>3372</th>\n",
       "      <td>0</td>\n",
       "      <td>0.299538</td>\n",
       "      <td>3372</td>\n",
       "    </tr>\n",
       "  </tbody>\n",
       "</table>\n",
       "<p>3373 rows × 3 columns</p>\n",
       "</div>"
      ],
      "text/plain": [
       "      y    y_pred  count\n",
       "0     0  0.299650      0\n",
       "1     0  0.203131      1\n",
       "2     0  0.175946      2\n",
       "3     1  1.172509      3\n",
       "4     0  0.300228      4\n",
       "...  ..       ...    ...\n",
       "3368  1  0.299545   3368\n",
       "3369  0  0.299540   3369\n",
       "3370  0  0.299533   3370\n",
       "3371  0  0.807452   3371\n",
       "3372  0  0.299538   3372\n",
       "\n",
       "[3373 rows x 3 columns]"
      ]
     },
     "execution_count": 166,
     "metadata": {},
     "output_type": "execute_result"
    }
   ],
   "source": [
    "y_pred = model.predict(x_)\n",
    "print(abs(y_pred))\n",
    "print(y)\n",
    "\n",
    "y_compare = pd.DataFrame({\"y\":list(y),\"y_pred\":list(abs(y_pred))}, index = range(0,len(y)))\n",
    "y_compare[\"count\"]=range(0,len(y))\n",
    "y_compare\n",
    "\n"
   ]
  },
  {
   "cell_type": "code",
   "execution_count": 167,
   "metadata": {},
   "outputs": [
    {
     "data": {
      "image/png": "[encoded data removed]",
      "text/plain": [
       "<Figure size 432x288 with 1 Axes>"
      ]
     },
     "metadata": {
      "needs_background": "light"
     },
     "output_type": "display_data"
    },
    {
     "data": {
      "image/png": "[encoded data removed]",
      "text/plain": [
       "<Figure size 432x288 with 1 Axes>"
      ]
     },
     "metadata": {
      "needs_background": "light"
     },
     "output_type": "display_data"
    }
   ],
   "source": [
    "y_compare.plot(kind = \"scatter\", x=\"count\",y=\"y\")\n",
    "y_compare.plot(kind = \"scatter\", x=\"count\",y=\"y_pred\")\n",
    "plt.show()"
   ]
  },
  {
   "cell_type": "markdown",
   "metadata": {},
   "source": [
    "# Advanced linear Regression with statsmodels"
   ]
  },
  {
   "cell_type": "code",
   "execution_count": 139,
   "metadata": {},
   "outputs": [],
   "source": [
    "import numpy as np\n",
    "import statsmodels.api as sm"
   ]
  },
  {
   "cell_type": "code",
   "execution_count": null,
   "metadata": {},
   "outputs": [],
   "source": [
    "x = sm.add_constant(x)"
   ]
  },
  {
   "cell_type": "code",
   "execution_count": 207,
   "metadata": {},
   "outputs": [
    {
     "data": {
      "text/plain": [
       "array([0, 0, 0, ..., 0, 0, 0], dtype=int64)"
      ]
     },
     "execution_count": 207,
     "metadata": {},
     "output_type": "execute_result"
    }
   ],
   "source": [
    "y = dg['target'].loc[:3372]\n",
    "y = np.array(y)\n",
    "y"
   ]
  },
  {
   "cell_type": "code",
   "execution_count": 206,
   "metadata": {},
   "outputs": [
    {
     "data": {
      "text/html": [
       "<div>\n",
       "<style scoped>\n",
       "    .dataframe tbody tr th:only-of-type {\n",
       "        vertical-align: middle;\n",
       "    }\n",
       "\n",
       "    .dataframe tbody tr th {\n",
       "        vertical-align: top;\n",
       "    }\n",
       "\n",
       "    .dataframe thead th {\n",
       "        text-align: right;\n",
       "    }\n",
       "</style>\n",
       "<table border=\"1\" class=\"dataframe\">\n",
       "  <thead>\n",
       "    <tr style=\"text-align: right;\">\n",
       "      <th></th>\n",
       "      <th>monthly_income</th>\n",
       "      <th>origination_score_band</th>\n",
       "      <th>TOB_months</th>\n",
       "      <th>closing_principal_balance</th>\n",
       "      <th>original_loan_amount</th>\n",
       "      <th>original_loan_term</th>\n",
       "      <th>remaining_loan_term</th>\n",
       "    </tr>\n",
       "  </thead>\n",
       "  <tbody>\n",
       "    <tr>\n",
       "      <th>0</th>\n",
       "      <td>6000.0</td>\n",
       "      <td>5</td>\n",
       "      <td>83.0</td>\n",
       "      <td>300.0</td>\n",
       "      <td>1800.0</td>\n",
       "      <td>24</td>\n",
       "      <td>5</td>\n",
       "    </tr>\n",
       "    <tr>\n",
       "      <th>1</th>\n",
       "      <td>39000.0</td>\n",
       "      <td>5</td>\n",
       "      <td>82.0</td>\n",
       "      <td>7200.0</td>\n",
       "      <td>11700.0</td>\n",
       "      <td>60</td>\n",
       "      <td>42</td>\n",
       "    </tr>\n",
       "    <tr>\n",
       "      <th>2</th>\n",
       "      <td>18000.0</td>\n",
       "      <td>5</td>\n",
       "      <td>78.0</td>\n",
       "      <td>2700.0</td>\n",
       "      <td>5400.0</td>\n",
       "      <td>60</td>\n",
       "      <td>46</td>\n",
       "    </tr>\n",
       "    <tr>\n",
       "      <th>3</th>\n",
       "      <td>23250.0</td>\n",
       "      <td>3</td>\n",
       "      <td>76.0</td>\n",
       "      <td>3900.0</td>\n",
       "      <td>6900.0</td>\n",
       "      <td>60</td>\n",
       "      <td>48</td>\n",
       "    </tr>\n",
       "    <tr>\n",
       "      <th>4</th>\n",
       "      <td>12000.0</td>\n",
       "      <td>3</td>\n",
       "      <td>74.0</td>\n",
       "      <td>2100.0</td>\n",
       "      <td>3600.0</td>\n",
       "      <td>60</td>\n",
       "      <td>50</td>\n",
       "    </tr>\n",
       "    <tr>\n",
       "      <th>...</th>\n",
       "      <td>...</td>\n",
       "      <td>...</td>\n",
       "      <td>...</td>\n",
       "      <td>...</td>\n",
       "      <td>...</td>\n",
       "      <td>...</td>\n",
       "      <td>...</td>\n",
       "    </tr>\n",
       "    <tr>\n",
       "      <th>3368</th>\n",
       "      <td>6000.0</td>\n",
       "      <td>6</td>\n",
       "      <td>14.0</td>\n",
       "      <td>1500.0</td>\n",
       "      <td>1500.0</td>\n",
       "      <td>66</td>\n",
       "      <td>57</td>\n",
       "    </tr>\n",
       "    <tr>\n",
       "      <th>3369</th>\n",
       "      <td>6000.0</td>\n",
       "      <td>2</td>\n",
       "      <td>15.0</td>\n",
       "      <td>1500.0</td>\n",
       "      <td>1500.0</td>\n",
       "      <td>66</td>\n",
       "      <td>55</td>\n",
       "    </tr>\n",
       "    <tr>\n",
       "      <th>3370</th>\n",
       "      <td>750.0</td>\n",
       "      <td>5</td>\n",
       "      <td>15.0</td>\n",
       "      <td>250.0</td>\n",
       "      <td>250.0</td>\n",
       "      <td>39</td>\n",
       "      <td>29</td>\n",
       "    </tr>\n",
       "    <tr>\n",
       "      <th>3371</th>\n",
       "      <td>39750.0</td>\n",
       "      <td>4</td>\n",
       "      <td>11.0</td>\n",
       "      <td>10000.0</td>\n",
       "      <td>10000.0</td>\n",
       "      <td>63</td>\n",
       "      <td>56</td>\n",
       "    </tr>\n",
       "    <tr>\n",
       "      <th>3372</th>\n",
       "      <td>5250.0</td>\n",
       "      <td>3</td>\n",
       "      <td>14.0</td>\n",
       "      <td>1000.0</td>\n",
       "      <td>1250.0</td>\n",
       "      <td>60</td>\n",
       "      <td>51</td>\n",
       "    </tr>\n",
       "  </tbody>\n",
       "</table>\n",
       "<p>3373 rows × 7 columns</p>\n",
       "</div>"
      ],
      "text/plain": [
       "      monthly_income  origination_score_band  TOB_months  \\\n",
       "0             6000.0                       5        83.0   \n",
       "1            39000.0                       5        82.0   \n",
       "2            18000.0                       5        78.0   \n",
       "3            23250.0                       3        76.0   \n",
       "4            12000.0                       3        74.0   \n",
       "...              ...                     ...         ...   \n",
       "3368          6000.0                       6        14.0   \n",
       "3369          6000.0                       2        15.0   \n",
       "3370           750.0                       5        15.0   \n",
       "3371         39750.0                       4        11.0   \n",
       "3372          5250.0                       3        14.0   \n",
       "\n",
       "      closing_principal_balance  original_loan_amount  original_loan_term  \\\n",
       "0                         300.0                1800.0                  24   \n",
       "1                        7200.0               11700.0                  60   \n",
       "2                        2700.0                5400.0                  60   \n",
       "3                        3900.0                6900.0                  60   \n",
       "4                        2100.0                3600.0                  60   \n",
       "...                         ...                   ...                 ...   \n",
       "3368                     1500.0                1500.0                  66   \n",
       "3369                     1500.0                1500.0                  66   \n",
       "3370                      250.0                 250.0                  39   \n",
       "3371                    10000.0               10000.0                  63   \n",
       "3372                     1000.0                1250.0                  60   \n",
       "\n",
       "      remaining_loan_term  \n",
       "0                       5  \n",
       "1                      42  \n",
       "2                      46  \n",
       "3                      48  \n",
       "4                      50  \n",
       "...                   ...  \n",
       "3368                   57  \n",
       "3369                   55  \n",
       "3370                   29  \n",
       "3371                   56  \n",
       "3372                   51  \n",
       "\n",
       "[3373 rows x 7 columns]"
      ]
     },
     "execution_count": 206,
     "metadata": {},
     "output_type": "execute_result"
    }
   ],
   "source": [
    "x = dg[[\"monthly_income\",\"origination_score_band\",\"TOB_months\",\"closing_principal_balance\",\"original_loan_amount\",\"original_loan_term\",\"remaining_loan_term\"]].loc[:3372]\n",
    "x\n",
    "\n"
   ]
  },
  {
   "cell_type": "code",
   "execution_count": 208,
   "metadata": {},
   "outputs": [
    {
     "data": {
      "text/plain": [
       "array([[6.000e+03, 5.000e+00, 8.300e+01, ..., 1.800e+03, 2.400e+01,\n",
       "        5.000e+00],\n",
       "       [3.900e+04, 5.000e+00, 8.200e+01, ..., 1.170e+04, 6.000e+01,\n",
       "        4.200e+01],\n",
       "       [1.800e+04, 5.000e+00, 7.800e+01, ..., 5.400e+03, 6.000e+01,\n",
       "        4.600e+01],\n",
       "       ...,\n",
       "       [7.500e+02, 5.000e+00, 1.500e+01, ..., 2.500e+02, 3.900e+01,\n",
       "        2.900e+01],\n",
       "       [3.975e+04, 4.000e+00, 1.100e+01, ..., 1.000e+04, 6.300e+01,\n",
       "        5.600e+01],\n",
       "       [5.250e+03, 3.000e+00, 1.400e+01, ..., 1.250e+03, 6.000e+01,\n",
       "        5.100e+01]])"
      ]
     },
     "execution_count": 208,
     "metadata": {},
     "output_type": "execute_result"
    }
   ],
   "source": [
    "x = np.array(x)\n",
    "# x.shape\n",
    "x\n"
   ]
  },
  {
   "cell_type": "code",
   "execution_count": 209,
   "metadata": {},
   "outputs": [
    {
     "data": {
      "text/plain": [
       "array([[1.000e+00, 6.000e+03, 5.000e+00, ..., 1.800e+03, 2.400e+01,\n",
       "        5.000e+00],\n",
       "       [1.000e+00, 3.900e+04, 5.000e+00, ..., 1.170e+04, 6.000e+01,\n",
       "        4.200e+01],\n",
       "       [1.000e+00, 1.800e+04, 5.000e+00, ..., 5.400e+03, 6.000e+01,\n",
       "        4.600e+01],\n",
       "       ...,\n",
       "       [1.000e+00, 7.500e+02, 5.000e+00, ..., 2.500e+02, 3.900e+01,\n",
       "        2.900e+01],\n",
       "       [1.000e+00, 3.975e+04, 4.000e+00, ..., 1.000e+04, 6.300e+01,\n",
       "        5.600e+01],\n",
       "       [1.000e+00, 5.250e+03, 3.000e+00, ..., 1.250e+03, 6.000e+01,\n",
       "        5.100e+01]])"
      ]
     },
     "execution_count": 209,
     "metadata": {},
     "output_type": "execute_result"
    }
   ],
   "source": [
    "x = sm.add_constant(x)\n",
    "x"
   ]
  },
  {
   "cell_type": "code",
   "execution_count": 210,
   "metadata": {},
   "outputs": [],
   "source": [
    "model = sm.OLS(y, x)"
   ]
  },
  {
   "cell_type": "code",
   "execution_count": 211,
   "metadata": {},
   "outputs": [],
   "source": [
    "results = model.fit()"
   ]
  },
  {
   "cell_type": "code",
   "execution_count": 212,
   "metadata": {},
   "outputs": [
    {
     "name": "stdout",
     "output_type": "stream",
     "text": [
      "                            OLS Regression Results                            \n",
      "==============================================================================\n",
      "Dep. Variable:                      y   R-squared:                       0.023\n",
      "Model:                            OLS   Adj. R-squared:                  0.021\n",
      "Method:                 Least Squares   F-statistic:                     11.50\n",
      "Date:                Thu, 01 Sep 2022   Prob (F-statistic):           1.66e-14\n",
      "Time:                        20:35:21   Log-Likelihood:                -2111.4\n",
      "No. Observations:                3373   AIC:                             4239.\n",
      "Df Residuals:                    3365   BIC:                             4288.\n",
      "Df Model:                           7                                         \n",
      "Covariance Type:            nonrobust                                         \n",
      "==============================================================================\n",
      "                 coef    std err          t      P>|t|      [0.025      0.975]\n",
      "------------------------------------------------------------------------------\n",
      "const          0.1273      0.034      3.768      0.000       0.061       0.194\n",
      "x1         -2.795e-06   9.04e-07     -3.092      0.002   -4.57e-06   -1.02e-06\n",
      "x2             0.0343      0.005      6.584      0.000       0.024       0.045\n",
      "x3             0.0044      0.001      5.367      0.000       0.003       0.006\n",
      "x4          1.185e-05   5.79e-06      2.047      0.041    4.97e-07    2.32e-05\n",
      "x5         -1.007e-05   5.33e-06     -1.890      0.059   -2.05e-05    3.77e-07\n",
      "x6            -0.0030      0.001     -3.948      0.000      -0.004      -0.001\n",
      "x7             0.0034      0.001      4.361      0.000       0.002       0.005\n",
      "==============================================================================\n",
      "Omnibus:                     2665.063   Durbin-Watson:                   1.944\n",
      "Prob(Omnibus):                  0.000   Jarque-Bera (JB):              592.680\n",
      "Skew:                           0.841   Prob(JB):                    2.00e-129\n",
      "Kurtosis:                       1.821   Cond. No.                     1.08e+05\n",
      "==============================================================================\n",
      "\n",
      "Notes:\n",
      "[1] Standard Errors assume that the covariance matrix of the errors is correctly specified.\n",
      "[2] The condition number is large, 1.08e+05. This might indicate that there are\n",
      "strong multicollinearity or other numerical problems.\n"
     ]
    }
   ],
   "source": [
    "print(results.summary())"
   ]
  }
 ],
 "metadata": {
  "kernelspec": {
   "display_name": "Python 3.10.6 64-bit (windows store)",
   "language": "python",
   "name": "python3"
  },
  "language_info": {
   "codemirror_mode": {
    "name": "ipython",
    "version": 3
   },
   "file_extension": ".py",
   "mimetype": "text/x-python",
   "name": "python",
   "nbconvert_exporter": "python",
   "pygments_lexer": "ipython3",
   "version": "3.10.6"
  },
  "orig_nbformat": 4,
  "vscode": {
   "interpreter": {
    "hash": "1ba8ddd67eb72f666e9ed24e7ce7d0418c15b0cfb7e00f500f6fe4ad37231218"
   }
  }
 },
 "nbformat": 4,
 "nbformat_minor": 2
}
